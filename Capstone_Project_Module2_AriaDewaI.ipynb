{
 "cells": [
  {
   "cell_type": "code",
   "execution_count": 1,
   "id": "866985d3",
   "metadata": {},
   "outputs": [],
   "source": [
    "import pandas as pd\n",
    "import seaborn as sns\n",
    "import numpy as np\n",
    "import matplotlib.pyplot as plt\n",
    "from scipy import stats\n",
    "from datetime import datetime"
   ]
  },
  {
   "cell_type": "markdown",
   "id": "eb5c5800",
   "metadata": {},
   "source": [
    "## Read Data and Analysis Data"
   ]
  },
  {
   "cell_type": "code",
   "execution_count": 2,
   "id": "76943d8f",
   "metadata": {},
   "outputs": [
    {
     "data": {
      "application/vnd.microsoft.datawrangler.viewer.v0+json": {
       "columns": [
        {
         "name": "index",
         "rawType": "int64",
         "type": "integer"
        },
        {
         "name": "ID",
         "rawType": "int64",
         "type": "integer"
        },
        {
         "name": "Year_Birth",
         "rawType": "int64",
         "type": "integer"
        },
        {
         "name": "Education",
         "rawType": "object",
         "type": "string"
        },
        {
         "name": "Marital_Status",
         "rawType": "object",
         "type": "string"
        },
        {
         "name": "Income",
         "rawType": "float64",
         "type": "float"
        },
        {
         "name": "Kidhome",
         "rawType": "int64",
         "type": "integer"
        },
        {
         "name": "Teenhome",
         "rawType": "int64",
         "type": "integer"
        },
        {
         "name": "Dt_Customer",
         "rawType": "object",
         "type": "string"
        },
        {
         "name": "Recency",
         "rawType": "int64",
         "type": "integer"
        },
        {
         "name": "MntWines",
         "rawType": "int64",
         "type": "integer"
        },
        {
         "name": "MntFruits",
         "rawType": "int64",
         "type": "integer"
        },
        {
         "name": "MntMeatProducts",
         "rawType": "int64",
         "type": "integer"
        },
        {
         "name": "MntFishProducts",
         "rawType": "int64",
         "type": "integer"
        },
        {
         "name": "MntSweetProducts",
         "rawType": "int64",
         "type": "integer"
        },
        {
         "name": "MntGoldProds",
         "rawType": "int64",
         "type": "integer"
        },
        {
         "name": "NumDealsPurchases",
         "rawType": "int64",
         "type": "integer"
        },
        {
         "name": "NumWebPurchases",
         "rawType": "int64",
         "type": "integer"
        },
        {
         "name": "NumCatalogPurchases",
         "rawType": "int64",
         "type": "integer"
        },
        {
         "name": "NumStorePurchases",
         "rawType": "int64",
         "type": "integer"
        },
        {
         "name": "NumWebVisitsMonth",
         "rawType": "int64",
         "type": "integer"
        },
        {
         "name": "AcceptedCmp3",
         "rawType": "int64",
         "type": "integer"
        },
        {
         "name": "AcceptedCmp4",
         "rawType": "int64",
         "type": "integer"
        },
        {
         "name": "AcceptedCmp5",
         "rawType": "int64",
         "type": "integer"
        },
        {
         "name": "AcceptedCmp1",
         "rawType": "int64",
         "type": "integer"
        },
        {
         "name": "AcceptedCmp2",
         "rawType": "int64",
         "type": "integer"
        },
        {
         "name": "Complain",
         "rawType": "int64",
         "type": "integer"
        },
        {
         "name": "Z_CostContact",
         "rawType": "int64",
         "type": "integer"
        },
        {
         "name": "Z_Revenue",
         "rawType": "int64",
         "type": "integer"
        },
        {
         "name": "Response",
         "rawType": "int64",
         "type": "integer"
        }
       ],
       "ref": "0416580e-9add-4459-98df-bfb134bb3e3b",
       "rows": [
        [
         "0",
         "5524",
         "1957",
         "Graduation",
         "Single",
         "58138.0",
         "0",
         "0",
         "04-09-2012",
         "58",
         "635",
         "88",
         "546",
         "172",
         "88",
         "88",
         "3",
         "8",
         "10",
         "4",
         "7",
         "0",
         "0",
         "0",
         "0",
         "0",
         "0",
         "3",
         "11",
         "1"
        ],
        [
         "1",
         "2174",
         "1954",
         "Graduation",
         "Single",
         "46344.0",
         "1",
         "1",
         "08-03-2014",
         "38",
         "11",
         "1",
         "6",
         "2",
         "1",
         "6",
         "2",
         "1",
         "1",
         "2",
         "5",
         "0",
         "0",
         "0",
         "0",
         "0",
         "0",
         "3",
         "11",
         "0"
        ],
        [
         "2",
         "4141",
         "1965",
         "Graduation",
         "Together",
         "71613.0",
         "0",
         "0",
         "21-08-2013",
         "26",
         "426",
         "49",
         "127",
         "111",
         "21",
         "42",
         "1",
         "8",
         "2",
         "10",
         "4",
         "0",
         "0",
         "0",
         "0",
         "0",
         "0",
         "3",
         "11",
         "0"
        ],
        [
         "3",
         "6182",
         "1984",
         "Graduation",
         "Together",
         "26646.0",
         "1",
         "0",
         "10-02-2014",
         "26",
         "11",
         "4",
         "20",
         "10",
         "3",
         "5",
         "2",
         "2",
         "0",
         "4",
         "6",
         "0",
         "0",
         "0",
         "0",
         "0",
         "0",
         "3",
         "11",
         "0"
        ],
        [
         "4",
         "5324",
         "1981",
         "PhD",
         "Married",
         "58293.0",
         "1",
         "0",
         "19-01-2014",
         "94",
         "173",
         "43",
         "118",
         "46",
         "27",
         "15",
         "5",
         "5",
         "3",
         "6",
         "5",
         "0",
         "0",
         "0",
         "0",
         "0",
         "0",
         "3",
         "11",
         "0"
        ]
       ],
       "shape": {
        "columns": 29,
        "rows": 5
       }
      },
      "text/html": [
       "<div>\n",
       "<style scoped>\n",
       "    .dataframe tbody tr th:only-of-type {\n",
       "        vertical-align: middle;\n",
       "    }\n",
       "\n",
       "    .dataframe tbody tr th {\n",
       "        vertical-align: top;\n",
       "    }\n",
       "\n",
       "    .dataframe thead th {\n",
       "        text-align: right;\n",
       "    }\n",
       "</style>\n",
       "<table border=\"1\" class=\"dataframe\">\n",
       "  <thead>\n",
       "    <tr style=\"text-align: right;\">\n",
       "      <th></th>\n",
       "      <th>ID</th>\n",
       "      <th>Year_Birth</th>\n",
       "      <th>Education</th>\n",
       "      <th>Marital_Status</th>\n",
       "      <th>Income</th>\n",
       "      <th>Kidhome</th>\n",
       "      <th>Teenhome</th>\n",
       "      <th>Dt_Customer</th>\n",
       "      <th>Recency</th>\n",
       "      <th>MntWines</th>\n",
       "      <th>...</th>\n",
       "      <th>NumWebVisitsMonth</th>\n",
       "      <th>AcceptedCmp3</th>\n",
       "      <th>AcceptedCmp4</th>\n",
       "      <th>AcceptedCmp5</th>\n",
       "      <th>AcceptedCmp1</th>\n",
       "      <th>AcceptedCmp2</th>\n",
       "      <th>Complain</th>\n",
       "      <th>Z_CostContact</th>\n",
       "      <th>Z_Revenue</th>\n",
       "      <th>Response</th>\n",
       "    </tr>\n",
       "  </thead>\n",
       "  <tbody>\n",
       "    <tr>\n",
       "      <th>0</th>\n",
       "      <td>5524</td>\n",
       "      <td>1957</td>\n",
       "      <td>Graduation</td>\n",
       "      <td>Single</td>\n",
       "      <td>58138.0</td>\n",
       "      <td>0</td>\n",
       "      <td>0</td>\n",
       "      <td>04-09-2012</td>\n",
       "      <td>58</td>\n",
       "      <td>635</td>\n",
       "      <td>...</td>\n",
       "      <td>7</td>\n",
       "      <td>0</td>\n",
       "      <td>0</td>\n",
       "      <td>0</td>\n",
       "      <td>0</td>\n",
       "      <td>0</td>\n",
       "      <td>0</td>\n",
       "      <td>3</td>\n",
       "      <td>11</td>\n",
       "      <td>1</td>\n",
       "    </tr>\n",
       "    <tr>\n",
       "      <th>1</th>\n",
       "      <td>2174</td>\n",
       "      <td>1954</td>\n",
       "      <td>Graduation</td>\n",
       "      <td>Single</td>\n",
       "      <td>46344.0</td>\n",
       "      <td>1</td>\n",
       "      <td>1</td>\n",
       "      <td>08-03-2014</td>\n",
       "      <td>38</td>\n",
       "      <td>11</td>\n",
       "      <td>...</td>\n",
       "      <td>5</td>\n",
       "      <td>0</td>\n",
       "      <td>0</td>\n",
       "      <td>0</td>\n",
       "      <td>0</td>\n",
       "      <td>0</td>\n",
       "      <td>0</td>\n",
       "      <td>3</td>\n",
       "      <td>11</td>\n",
       "      <td>0</td>\n",
       "    </tr>\n",
       "    <tr>\n",
       "      <th>2</th>\n",
       "      <td>4141</td>\n",
       "      <td>1965</td>\n",
       "      <td>Graduation</td>\n",
       "      <td>Together</td>\n",
       "      <td>71613.0</td>\n",
       "      <td>0</td>\n",
       "      <td>0</td>\n",
       "      <td>21-08-2013</td>\n",
       "      <td>26</td>\n",
       "      <td>426</td>\n",
       "      <td>...</td>\n",
       "      <td>4</td>\n",
       "      <td>0</td>\n",
       "      <td>0</td>\n",
       "      <td>0</td>\n",
       "      <td>0</td>\n",
       "      <td>0</td>\n",
       "      <td>0</td>\n",
       "      <td>3</td>\n",
       "      <td>11</td>\n",
       "      <td>0</td>\n",
       "    </tr>\n",
       "    <tr>\n",
       "      <th>3</th>\n",
       "      <td>6182</td>\n",
       "      <td>1984</td>\n",
       "      <td>Graduation</td>\n",
       "      <td>Together</td>\n",
       "      <td>26646.0</td>\n",
       "      <td>1</td>\n",
       "      <td>0</td>\n",
       "      <td>10-02-2014</td>\n",
       "      <td>26</td>\n",
       "      <td>11</td>\n",
       "      <td>...</td>\n",
       "      <td>6</td>\n",
       "      <td>0</td>\n",
       "      <td>0</td>\n",
       "      <td>0</td>\n",
       "      <td>0</td>\n",
       "      <td>0</td>\n",
       "      <td>0</td>\n",
       "      <td>3</td>\n",
       "      <td>11</td>\n",
       "      <td>0</td>\n",
       "    </tr>\n",
       "    <tr>\n",
       "      <th>4</th>\n",
       "      <td>5324</td>\n",
       "      <td>1981</td>\n",
       "      <td>PhD</td>\n",
       "      <td>Married</td>\n",
       "      <td>58293.0</td>\n",
       "      <td>1</td>\n",
       "      <td>0</td>\n",
       "      <td>19-01-2014</td>\n",
       "      <td>94</td>\n",
       "      <td>173</td>\n",
       "      <td>...</td>\n",
       "      <td>5</td>\n",
       "      <td>0</td>\n",
       "      <td>0</td>\n",
       "      <td>0</td>\n",
       "      <td>0</td>\n",
       "      <td>0</td>\n",
       "      <td>0</td>\n",
       "      <td>3</td>\n",
       "      <td>11</td>\n",
       "      <td>0</td>\n",
       "    </tr>\n",
       "  </tbody>\n",
       "</table>\n",
       "<p>5 rows × 29 columns</p>\n",
       "</div>"
      ],
      "text/plain": [
       "     ID  Year_Birth   Education Marital_Status   Income  Kidhome  Teenhome  \\\n",
       "0  5524        1957  Graduation         Single  58138.0        0         0   \n",
       "1  2174        1954  Graduation         Single  46344.0        1         1   \n",
       "2  4141        1965  Graduation       Together  71613.0        0         0   \n",
       "3  6182        1984  Graduation       Together  26646.0        1         0   \n",
       "4  5324        1981         PhD        Married  58293.0        1         0   \n",
       "\n",
       "  Dt_Customer  Recency  MntWines  ...  NumWebVisitsMonth  AcceptedCmp3  \\\n",
       "0  04-09-2012       58       635  ...                  7             0   \n",
       "1  08-03-2014       38        11  ...                  5             0   \n",
       "2  21-08-2013       26       426  ...                  4             0   \n",
       "3  10-02-2014       26        11  ...                  6             0   \n",
       "4  19-01-2014       94       173  ...                  5             0   \n",
       "\n",
       "   AcceptedCmp4  AcceptedCmp5  AcceptedCmp1  AcceptedCmp2  Complain  \\\n",
       "0             0             0             0             0         0   \n",
       "1             0             0             0             0         0   \n",
       "2             0             0             0             0         0   \n",
       "3             0             0             0             0         0   \n",
       "4             0             0             0             0         0   \n",
       "\n",
       "   Z_CostContact  Z_Revenue  Response  \n",
       "0              3         11         1  \n",
       "1              3         11         0  \n",
       "2              3         11         0  \n",
       "3              3         11         0  \n",
       "4              3         11         0  \n",
       "\n",
       "[5 rows x 29 columns]"
      ]
     },
     "execution_count": 2,
     "metadata": {},
     "output_type": "execute_result"
    }
   ],
   "source": [
    "df = pd.read_csv(\n",
    "    \"Supermarket Customers.csv\",\n",
    "    encoding=\"windows-1252\",\n",
    "    )\n",
    "df.head()"
   ]
  },
  {
   "cell_type": "code",
   "execution_count": 3,
   "id": "6d7f17d5",
   "metadata": {},
   "outputs": [
    {
     "data": {
      "application/vnd.microsoft.datawrangler.viewer.v0+json": {
       "columns": [
        {
         "name": "index",
         "rawType": "object",
         "type": "string"
        },
        {
         "name": "0",
         "rawType": "object",
         "type": "unknown"
        }
       ],
       "ref": "24d47f2f-5344-40f1-b777-261db4b409b7",
       "rows": [
        [
         "ID",
         "int64"
        ],
        [
         "Year_Birth",
         "int64"
        ],
        [
         "Education",
         "object"
        ],
        [
         "Marital_Status",
         "object"
        ],
        [
         "Income",
         "float64"
        ],
        [
         "Kidhome",
         "int64"
        ],
        [
         "Teenhome",
         "int64"
        ],
        [
         "Dt_Customer",
         "object"
        ],
        [
         "Recency",
         "int64"
        ],
        [
         "MntWines",
         "int64"
        ],
        [
         "MntFruits",
         "int64"
        ],
        [
         "MntMeatProducts",
         "int64"
        ],
        [
         "MntFishProducts",
         "int64"
        ],
        [
         "MntSweetProducts",
         "int64"
        ],
        [
         "MntGoldProds",
         "int64"
        ],
        [
         "NumDealsPurchases",
         "int64"
        ],
        [
         "NumWebPurchases",
         "int64"
        ],
        [
         "NumCatalogPurchases",
         "int64"
        ],
        [
         "NumStorePurchases",
         "int64"
        ],
        [
         "NumWebVisitsMonth",
         "int64"
        ],
        [
         "AcceptedCmp3",
         "int64"
        ],
        [
         "AcceptedCmp4",
         "int64"
        ],
        [
         "AcceptedCmp5",
         "int64"
        ],
        [
         "AcceptedCmp1",
         "int64"
        ],
        [
         "AcceptedCmp2",
         "int64"
        ],
        [
         "Complain",
         "int64"
        ],
        [
         "Z_CostContact",
         "int64"
        ],
        [
         "Z_Revenue",
         "int64"
        ],
        [
         "Response",
         "int64"
        ]
       ],
       "shape": {
        "columns": 1,
        "rows": 29
       }
      },
      "text/plain": [
       "ID                       int64\n",
       "Year_Birth               int64\n",
       "Education               object\n",
       "Marital_Status          object\n",
       "Income                 float64\n",
       "Kidhome                  int64\n",
       "Teenhome                 int64\n",
       "Dt_Customer             object\n",
       "Recency                  int64\n",
       "MntWines                 int64\n",
       "MntFruits                int64\n",
       "MntMeatProducts          int64\n",
       "MntFishProducts          int64\n",
       "MntSweetProducts         int64\n",
       "MntGoldProds             int64\n",
       "NumDealsPurchases        int64\n",
       "NumWebPurchases          int64\n",
       "NumCatalogPurchases      int64\n",
       "NumStorePurchases        int64\n",
       "NumWebVisitsMonth        int64\n",
       "AcceptedCmp3             int64\n",
       "AcceptedCmp4             int64\n",
       "AcceptedCmp5             int64\n",
       "AcceptedCmp1             int64\n",
       "AcceptedCmp2             int64\n",
       "Complain                 int64\n",
       "Z_CostContact            int64\n",
       "Z_Revenue                int64\n",
       "Response                 int64\n",
       "dtype: object"
      ]
     },
     "execution_count": 3,
     "metadata": {},
     "output_type": "execute_result"
    }
   ],
   "source": [
    "df.dtypes"
   ]
  },
  {
   "cell_type": "markdown",
   "id": "e80d7c8a",
   "metadata": {},
   "source": [
    "Setelah pengecekan dapat dikatakan bahwa ada satu data yang typenya abnormal yaitu \"DT_Customer\" yang seharusnya memiliki type \"datetime\"."
   ]
  },
  {
   "cell_type": "code",
   "execution_count": 4,
   "id": "69546e10",
   "metadata": {},
   "outputs": [
    {
     "name": "stdout",
     "output_type": "stream",
     "text": [
      "0      2012-04-09\n",
      "1      2014-08-03\n",
      "2      2013-08-21\n",
      "3      2014-10-02\n",
      "4      2014-01-19\n",
      "          ...    \n",
      "2235   2013-06-13\n",
      "2236   2014-10-06\n",
      "2237   2014-01-25\n",
      "2238   2014-01-24\n",
      "2239   2012-10-15\n",
      "Name: Dt_Customer, Length: 2240, dtype: datetime64[ns]\n"
     ]
    }
   ],
   "source": [
    "test_variable = pd.to_datetime(df[\"Dt_Customer\"], format=\"mixed\")\n",
    "print(test_variable)"
   ]
  },
  {
   "cell_type": "code",
   "execution_count": 5,
   "id": "7b72c73d",
   "metadata": {},
   "outputs": [
    {
     "data": {
      "application/vnd.microsoft.datawrangler.viewer.v0+json": {
       "columns": [
        {
         "name": "index",
         "rawType": "int64",
         "type": "integer"
        },
        {
         "name": "ID",
         "rawType": "int64",
         "type": "integer"
        },
        {
         "name": "Year_Birth",
         "rawType": "int64",
         "type": "integer"
        },
        {
         "name": "Education",
         "rawType": "object",
         "type": "string"
        },
        {
         "name": "Marital_Status",
         "rawType": "object",
         "type": "string"
        },
        {
         "name": "Income",
         "rawType": "float64",
         "type": "float"
        },
        {
         "name": "Kidhome",
         "rawType": "int64",
         "type": "integer"
        },
        {
         "name": "Teenhome",
         "rawType": "int64",
         "type": "integer"
        },
        {
         "name": "Dt_Customer",
         "rawType": "datetime64[ns]",
         "type": "datetime"
        },
        {
         "name": "Recency",
         "rawType": "int64",
         "type": "integer"
        },
        {
         "name": "MntWines",
         "rawType": "int64",
         "type": "integer"
        },
        {
         "name": "MntFruits",
         "rawType": "int64",
         "type": "integer"
        },
        {
         "name": "MntMeatProducts",
         "rawType": "int64",
         "type": "integer"
        },
        {
         "name": "MntFishProducts",
         "rawType": "int64",
         "type": "integer"
        },
        {
         "name": "MntSweetProducts",
         "rawType": "int64",
         "type": "integer"
        },
        {
         "name": "MntGoldProds",
         "rawType": "int64",
         "type": "integer"
        },
        {
         "name": "NumDealsPurchases",
         "rawType": "int64",
         "type": "integer"
        },
        {
         "name": "NumWebPurchases",
         "rawType": "int64",
         "type": "integer"
        },
        {
         "name": "NumCatalogPurchases",
         "rawType": "int64",
         "type": "integer"
        },
        {
         "name": "NumStorePurchases",
         "rawType": "int64",
         "type": "integer"
        },
        {
         "name": "NumWebVisitsMonth",
         "rawType": "int64",
         "type": "integer"
        },
        {
         "name": "AcceptedCmp3",
         "rawType": "int64",
         "type": "integer"
        },
        {
         "name": "AcceptedCmp4",
         "rawType": "int64",
         "type": "integer"
        },
        {
         "name": "AcceptedCmp5",
         "rawType": "int64",
         "type": "integer"
        },
        {
         "name": "AcceptedCmp1",
         "rawType": "int64",
         "type": "integer"
        },
        {
         "name": "AcceptedCmp2",
         "rawType": "int64",
         "type": "integer"
        },
        {
         "name": "Complain",
         "rawType": "int64",
         "type": "integer"
        },
        {
         "name": "Z_CostContact",
         "rawType": "int64",
         "type": "integer"
        },
        {
         "name": "Z_Revenue",
         "rawType": "int64",
         "type": "integer"
        },
        {
         "name": "Response",
         "rawType": "int64",
         "type": "integer"
        }
       ],
       "ref": "61fb9c05-e48d-4ce3-a651-929fdb8c94eb",
       "rows": [
        [
         "0",
         "5524",
         "1957",
         "Graduation",
         "Single",
         "58138.0",
         "0",
         "0",
         "2012-04-09 00:00:00",
         "58",
         "635",
         "88",
         "546",
         "172",
         "88",
         "88",
         "3",
         "8",
         "10",
         "4",
         "7",
         "0",
         "0",
         "0",
         "0",
         "0",
         "0",
         "3",
         "11",
         "1"
        ],
        [
         "1",
         "2174",
         "1954",
         "Graduation",
         "Single",
         "46344.0",
         "1",
         "1",
         "2014-08-03 00:00:00",
         "38",
         "11",
         "1",
         "6",
         "2",
         "1",
         "6",
         "2",
         "1",
         "1",
         "2",
         "5",
         "0",
         "0",
         "0",
         "0",
         "0",
         "0",
         "3",
         "11",
         "0"
        ],
        [
         "2",
         "4141",
         "1965",
         "Graduation",
         "Together",
         "71613.0",
         "0",
         "0",
         "2013-08-21 00:00:00",
         "26",
         "426",
         "49",
         "127",
         "111",
         "21",
         "42",
         "1",
         "8",
         "2",
         "10",
         "4",
         "0",
         "0",
         "0",
         "0",
         "0",
         "0",
         "3",
         "11",
         "0"
        ],
        [
         "3",
         "6182",
         "1984",
         "Graduation",
         "Together",
         "26646.0",
         "1",
         "0",
         "2014-10-02 00:00:00",
         "26",
         "11",
         "4",
         "20",
         "10",
         "3",
         "5",
         "2",
         "2",
         "0",
         "4",
         "6",
         "0",
         "0",
         "0",
         "0",
         "0",
         "0",
         "3",
         "11",
         "0"
        ],
        [
         "4",
         "5324",
         "1981",
         "PhD",
         "Married",
         "58293.0",
         "1",
         "0",
         "2014-01-19 00:00:00",
         "94",
         "173",
         "43",
         "118",
         "46",
         "27",
         "15",
         "5",
         "5",
         "3",
         "6",
         "5",
         "0",
         "0",
         "0",
         "0",
         "0",
         "0",
         "3",
         "11",
         "0"
        ]
       ],
       "shape": {
        "columns": 29,
        "rows": 5
       }
      },
      "text/html": [
       "<div>\n",
       "<style scoped>\n",
       "    .dataframe tbody tr th:only-of-type {\n",
       "        vertical-align: middle;\n",
       "    }\n",
       "\n",
       "    .dataframe tbody tr th {\n",
       "        vertical-align: top;\n",
       "    }\n",
       "\n",
       "    .dataframe thead th {\n",
       "        text-align: right;\n",
       "    }\n",
       "</style>\n",
       "<table border=\"1\" class=\"dataframe\">\n",
       "  <thead>\n",
       "    <tr style=\"text-align: right;\">\n",
       "      <th></th>\n",
       "      <th>ID</th>\n",
       "      <th>Year_Birth</th>\n",
       "      <th>Education</th>\n",
       "      <th>Marital_Status</th>\n",
       "      <th>Income</th>\n",
       "      <th>Kidhome</th>\n",
       "      <th>Teenhome</th>\n",
       "      <th>Dt_Customer</th>\n",
       "      <th>Recency</th>\n",
       "      <th>MntWines</th>\n",
       "      <th>...</th>\n",
       "      <th>NumWebVisitsMonth</th>\n",
       "      <th>AcceptedCmp3</th>\n",
       "      <th>AcceptedCmp4</th>\n",
       "      <th>AcceptedCmp5</th>\n",
       "      <th>AcceptedCmp1</th>\n",
       "      <th>AcceptedCmp2</th>\n",
       "      <th>Complain</th>\n",
       "      <th>Z_CostContact</th>\n",
       "      <th>Z_Revenue</th>\n",
       "      <th>Response</th>\n",
       "    </tr>\n",
       "  </thead>\n",
       "  <tbody>\n",
       "    <tr>\n",
       "      <th>0</th>\n",
       "      <td>5524</td>\n",
       "      <td>1957</td>\n",
       "      <td>Graduation</td>\n",
       "      <td>Single</td>\n",
       "      <td>58138.0</td>\n",
       "      <td>0</td>\n",
       "      <td>0</td>\n",
       "      <td>2012-04-09</td>\n",
       "      <td>58</td>\n",
       "      <td>635</td>\n",
       "      <td>...</td>\n",
       "      <td>7</td>\n",
       "      <td>0</td>\n",
       "      <td>0</td>\n",
       "      <td>0</td>\n",
       "      <td>0</td>\n",
       "      <td>0</td>\n",
       "      <td>0</td>\n",
       "      <td>3</td>\n",
       "      <td>11</td>\n",
       "      <td>1</td>\n",
       "    </tr>\n",
       "    <tr>\n",
       "      <th>1</th>\n",
       "      <td>2174</td>\n",
       "      <td>1954</td>\n",
       "      <td>Graduation</td>\n",
       "      <td>Single</td>\n",
       "      <td>46344.0</td>\n",
       "      <td>1</td>\n",
       "      <td>1</td>\n",
       "      <td>2014-08-03</td>\n",
       "      <td>38</td>\n",
       "      <td>11</td>\n",
       "      <td>...</td>\n",
       "      <td>5</td>\n",
       "      <td>0</td>\n",
       "      <td>0</td>\n",
       "      <td>0</td>\n",
       "      <td>0</td>\n",
       "      <td>0</td>\n",
       "      <td>0</td>\n",
       "      <td>3</td>\n",
       "      <td>11</td>\n",
       "      <td>0</td>\n",
       "    </tr>\n",
       "    <tr>\n",
       "      <th>2</th>\n",
       "      <td>4141</td>\n",
       "      <td>1965</td>\n",
       "      <td>Graduation</td>\n",
       "      <td>Together</td>\n",
       "      <td>71613.0</td>\n",
       "      <td>0</td>\n",
       "      <td>0</td>\n",
       "      <td>2013-08-21</td>\n",
       "      <td>26</td>\n",
       "      <td>426</td>\n",
       "      <td>...</td>\n",
       "      <td>4</td>\n",
       "      <td>0</td>\n",
       "      <td>0</td>\n",
       "      <td>0</td>\n",
       "      <td>0</td>\n",
       "      <td>0</td>\n",
       "      <td>0</td>\n",
       "      <td>3</td>\n",
       "      <td>11</td>\n",
       "      <td>0</td>\n",
       "    </tr>\n",
       "    <tr>\n",
       "      <th>3</th>\n",
       "      <td>6182</td>\n",
       "      <td>1984</td>\n",
       "      <td>Graduation</td>\n",
       "      <td>Together</td>\n",
       "      <td>26646.0</td>\n",
       "      <td>1</td>\n",
       "      <td>0</td>\n",
       "      <td>2014-10-02</td>\n",
       "      <td>26</td>\n",
       "      <td>11</td>\n",
       "      <td>...</td>\n",
       "      <td>6</td>\n",
       "      <td>0</td>\n",
       "      <td>0</td>\n",
       "      <td>0</td>\n",
       "      <td>0</td>\n",
       "      <td>0</td>\n",
       "      <td>0</td>\n",
       "      <td>3</td>\n",
       "      <td>11</td>\n",
       "      <td>0</td>\n",
       "    </tr>\n",
       "    <tr>\n",
       "      <th>4</th>\n",
       "      <td>5324</td>\n",
       "      <td>1981</td>\n",
       "      <td>PhD</td>\n",
       "      <td>Married</td>\n",
       "      <td>58293.0</td>\n",
       "      <td>1</td>\n",
       "      <td>0</td>\n",
       "      <td>2014-01-19</td>\n",
       "      <td>94</td>\n",
       "      <td>173</td>\n",
       "      <td>...</td>\n",
       "      <td>5</td>\n",
       "      <td>0</td>\n",
       "      <td>0</td>\n",
       "      <td>0</td>\n",
       "      <td>0</td>\n",
       "      <td>0</td>\n",
       "      <td>0</td>\n",
       "      <td>3</td>\n",
       "      <td>11</td>\n",
       "      <td>0</td>\n",
       "    </tr>\n",
       "  </tbody>\n",
       "</table>\n",
       "<p>5 rows × 29 columns</p>\n",
       "</div>"
      ],
      "text/plain": [
       "     ID  Year_Birth   Education Marital_Status   Income  Kidhome  Teenhome  \\\n",
       "0  5524        1957  Graduation         Single  58138.0        0         0   \n",
       "1  2174        1954  Graduation         Single  46344.0        1         1   \n",
       "2  4141        1965  Graduation       Together  71613.0        0         0   \n",
       "3  6182        1984  Graduation       Together  26646.0        1         0   \n",
       "4  5324        1981         PhD        Married  58293.0        1         0   \n",
       "\n",
       "  Dt_Customer  Recency  MntWines  ...  NumWebVisitsMonth  AcceptedCmp3  \\\n",
       "0  2012-04-09       58       635  ...                  7             0   \n",
       "1  2014-08-03       38        11  ...                  5             0   \n",
       "2  2013-08-21       26       426  ...                  4             0   \n",
       "3  2014-10-02       26        11  ...                  6             0   \n",
       "4  2014-01-19       94       173  ...                  5             0   \n",
       "\n",
       "   AcceptedCmp4  AcceptedCmp5  AcceptedCmp1  AcceptedCmp2  Complain  \\\n",
       "0             0             0             0             0         0   \n",
       "1             0             0             0             0         0   \n",
       "2             0             0             0             0         0   \n",
       "3             0             0             0             0         0   \n",
       "4             0             0             0             0         0   \n",
       "\n",
       "   Z_CostContact  Z_Revenue  Response  \n",
       "0              3         11         1  \n",
       "1              3         11         0  \n",
       "2              3         11         0  \n",
       "3              3         11         0  \n",
       "4              3         11         0  \n",
       "\n",
       "[5 rows x 29 columns]"
      ]
     },
     "execution_count": 5,
     "metadata": {},
     "output_type": "execute_result"
    }
   ],
   "source": [
    "df[\"Dt_Customer\"] = pd.to_datetime(df[\"Dt_Customer\"], format=\"mixed\")\n",
    "df.head()"
   ]
  },
  {
   "cell_type": "code",
   "execution_count": 6,
   "id": "f5fbb1bf",
   "metadata": {},
   "outputs": [
    {
     "data": {
      "application/vnd.microsoft.datawrangler.viewer.v0+json": {
       "columns": [
        {
         "name": "index",
         "rawType": "object",
         "type": "string"
        },
        {
         "name": "0",
         "rawType": "object",
         "type": "unknown"
        }
       ],
       "ref": "73e6e1d4-4532-4069-8d7d-666f9fe80af4",
       "rows": [
        [
         "ID",
         "int64"
        ],
        [
         "Year_Birth",
         "int64"
        ],
        [
         "Education",
         "object"
        ],
        [
         "Marital_Status",
         "object"
        ],
        [
         "Income",
         "float64"
        ],
        [
         "Kidhome",
         "int64"
        ],
        [
         "Teenhome",
         "int64"
        ],
        [
         "Dt_Customer",
         "datetime64[ns]"
        ],
        [
         "Recency",
         "int64"
        ],
        [
         "MntWines",
         "int64"
        ],
        [
         "MntFruits",
         "int64"
        ],
        [
         "MntMeatProducts",
         "int64"
        ],
        [
         "MntFishProducts",
         "int64"
        ],
        [
         "MntSweetProducts",
         "int64"
        ],
        [
         "MntGoldProds",
         "int64"
        ],
        [
         "NumDealsPurchases",
         "int64"
        ],
        [
         "NumWebPurchases",
         "int64"
        ],
        [
         "NumCatalogPurchases",
         "int64"
        ],
        [
         "NumStorePurchases",
         "int64"
        ],
        [
         "NumWebVisitsMonth",
         "int64"
        ],
        [
         "AcceptedCmp3",
         "int64"
        ],
        [
         "AcceptedCmp4",
         "int64"
        ],
        [
         "AcceptedCmp5",
         "int64"
        ],
        [
         "AcceptedCmp1",
         "int64"
        ],
        [
         "AcceptedCmp2",
         "int64"
        ],
        [
         "Complain",
         "int64"
        ],
        [
         "Z_CostContact",
         "int64"
        ],
        [
         "Z_Revenue",
         "int64"
        ],
        [
         "Response",
         "int64"
        ]
       ],
       "shape": {
        "columns": 1,
        "rows": 29
       }
      },
      "text/plain": [
       "ID                              int64\n",
       "Year_Birth                      int64\n",
       "Education                      object\n",
       "Marital_Status                 object\n",
       "Income                        float64\n",
       "Kidhome                         int64\n",
       "Teenhome                        int64\n",
       "Dt_Customer            datetime64[ns]\n",
       "Recency                         int64\n",
       "MntWines                        int64\n",
       "MntFruits                       int64\n",
       "MntMeatProducts                 int64\n",
       "MntFishProducts                 int64\n",
       "MntSweetProducts                int64\n",
       "MntGoldProds                    int64\n",
       "NumDealsPurchases               int64\n",
       "NumWebPurchases                 int64\n",
       "NumCatalogPurchases             int64\n",
       "NumStorePurchases               int64\n",
       "NumWebVisitsMonth               int64\n",
       "AcceptedCmp3                    int64\n",
       "AcceptedCmp4                    int64\n",
       "AcceptedCmp5                    int64\n",
       "AcceptedCmp1                    int64\n",
       "AcceptedCmp2                    int64\n",
       "Complain                        int64\n",
       "Z_CostContact                   int64\n",
       "Z_Revenue                       int64\n",
       "Response                        int64\n",
       "dtype: object"
      ]
     },
     "execution_count": 6,
     "metadata": {},
     "output_type": "execute_result"
    }
   ],
   "source": [
    "df.dtypes"
   ]
  },
  {
   "cell_type": "code",
   "execution_count": 7,
   "id": "439cf40f",
   "metadata": {},
   "outputs": [
    {
     "data": {
      "application/vnd.microsoft.datawrangler.viewer.v0+json": {
       "columns": [
        {
         "name": "index",
         "rawType": "object",
         "type": "string"
        },
        {
         "name": "0",
         "rawType": "int64",
         "type": "integer"
        }
       ],
       "ref": "9fc66d80-8d58-4790-b4a1-97235e45d68b",
       "rows": [
        [
         "ID",
         "2240"
        ],
        [
         "Year_Birth",
         "2240"
        ],
        [
         "Education",
         "2240"
        ],
        [
         "Marital_Status",
         "2240"
        ],
        [
         "Income",
         "2216"
        ],
        [
         "Kidhome",
         "2240"
        ],
        [
         "Teenhome",
         "2240"
        ],
        [
         "Dt_Customer",
         "2240"
        ],
        [
         "Recency",
         "2240"
        ],
        [
         "MntWines",
         "2240"
        ],
        [
         "MntFruits",
         "2240"
        ],
        [
         "MntMeatProducts",
         "2240"
        ],
        [
         "MntFishProducts",
         "2240"
        ],
        [
         "MntSweetProducts",
         "2240"
        ],
        [
         "MntGoldProds",
         "2240"
        ],
        [
         "NumDealsPurchases",
         "2240"
        ],
        [
         "NumWebPurchases",
         "2240"
        ],
        [
         "NumCatalogPurchases",
         "2240"
        ],
        [
         "NumStorePurchases",
         "2240"
        ],
        [
         "NumWebVisitsMonth",
         "2240"
        ],
        [
         "AcceptedCmp3",
         "2240"
        ],
        [
         "AcceptedCmp4",
         "2240"
        ],
        [
         "AcceptedCmp5",
         "2240"
        ],
        [
         "AcceptedCmp1",
         "2240"
        ],
        [
         "AcceptedCmp2",
         "2240"
        ],
        [
         "Complain",
         "2240"
        ],
        [
         "Z_CostContact",
         "2240"
        ],
        [
         "Z_Revenue",
         "2240"
        ],
        [
         "Response",
         "2240"
        ]
       ],
       "shape": {
        "columns": 1,
        "rows": 29
       }
      },
      "text/plain": [
       "ID                     2240\n",
       "Year_Birth             2240\n",
       "Education              2240\n",
       "Marital_Status         2240\n",
       "Income                 2216\n",
       "Kidhome                2240\n",
       "Teenhome               2240\n",
       "Dt_Customer            2240\n",
       "Recency                2240\n",
       "MntWines               2240\n",
       "MntFruits              2240\n",
       "MntMeatProducts        2240\n",
       "MntFishProducts        2240\n",
       "MntSweetProducts       2240\n",
       "MntGoldProds           2240\n",
       "NumDealsPurchases      2240\n",
       "NumWebPurchases        2240\n",
       "NumCatalogPurchases    2240\n",
       "NumStorePurchases      2240\n",
       "NumWebVisitsMonth      2240\n",
       "AcceptedCmp3           2240\n",
       "AcceptedCmp4           2240\n",
       "AcceptedCmp5           2240\n",
       "AcceptedCmp1           2240\n",
       "AcceptedCmp2           2240\n",
       "Complain               2240\n",
       "Z_CostContact          2240\n",
       "Z_Revenue              2240\n",
       "Response               2240\n",
       "dtype: int64"
      ]
     },
     "execution_count": 7,
     "metadata": {},
     "output_type": "execute_result"
    }
   ],
   "source": [
    "df.count()"
   ]
  },
  {
   "cell_type": "markdown",
   "id": "a8d8af1b",
   "metadata": {},
   "source": [
    "Setelah pemeriksaan, dapat dilihat bahwa ada missing values pada data \"Income\" sebanyak 24 data. Karena data yang hilang tidak terlalu banyak dan data yang hilang itu adalah data Income, maka cara penyelesaian yang menurut saya paling efektif adalah dengan cara mengganti data yang hilang tersebut dengan nilai median dari data yang ada."
   ]
  },
  {
   "cell_type": "code",
   "execution_count": 8,
   "id": "eea261fa",
   "metadata": {},
   "outputs": [
    {
     "data": {
      "application/vnd.microsoft.datawrangler.viewer.v0+json": {
       "columns": [
        {
         "name": "index",
         "rawType": "int64",
         "type": "integer"
        },
        {
         "name": "ID",
         "rawType": "int64",
         "type": "integer"
        },
        {
         "name": "Year_Birth",
         "rawType": "int64",
         "type": "integer"
        },
        {
         "name": "Education",
         "rawType": "object",
         "type": "string"
        },
        {
         "name": "Marital_Status",
         "rawType": "object",
         "type": "string"
        },
        {
         "name": "Income",
         "rawType": "float64",
         "type": "float"
        },
        {
         "name": "Kidhome",
         "rawType": "int64",
         "type": "integer"
        },
        {
         "name": "Teenhome",
         "rawType": "int64",
         "type": "integer"
        },
        {
         "name": "Dt_Customer",
         "rawType": "datetime64[ns]",
         "type": "datetime"
        },
        {
         "name": "Recency",
         "rawType": "int64",
         "type": "integer"
        },
        {
         "name": "MntWines",
         "rawType": "int64",
         "type": "integer"
        },
        {
         "name": "MntFruits",
         "rawType": "int64",
         "type": "integer"
        },
        {
         "name": "MntMeatProducts",
         "rawType": "int64",
         "type": "integer"
        },
        {
         "name": "MntFishProducts",
         "rawType": "int64",
         "type": "integer"
        },
        {
         "name": "MntSweetProducts",
         "rawType": "int64",
         "type": "integer"
        },
        {
         "name": "MntGoldProds",
         "rawType": "int64",
         "type": "integer"
        },
        {
         "name": "NumDealsPurchases",
         "rawType": "int64",
         "type": "integer"
        },
        {
         "name": "NumWebPurchases",
         "rawType": "int64",
         "type": "integer"
        },
        {
         "name": "NumCatalogPurchases",
         "rawType": "int64",
         "type": "integer"
        },
        {
         "name": "NumStorePurchases",
         "rawType": "int64",
         "type": "integer"
        },
        {
         "name": "NumWebVisitsMonth",
         "rawType": "int64",
         "type": "integer"
        },
        {
         "name": "AcceptedCmp3",
         "rawType": "int64",
         "type": "integer"
        },
        {
         "name": "AcceptedCmp4",
         "rawType": "int64",
         "type": "integer"
        },
        {
         "name": "AcceptedCmp5",
         "rawType": "int64",
         "type": "integer"
        },
        {
         "name": "AcceptedCmp1",
         "rawType": "int64",
         "type": "integer"
        },
        {
         "name": "AcceptedCmp2",
         "rawType": "int64",
         "type": "integer"
        },
        {
         "name": "Complain",
         "rawType": "int64",
         "type": "integer"
        },
        {
         "name": "Z_CostContact",
         "rawType": "int64",
         "type": "integer"
        },
        {
         "name": "Z_Revenue",
         "rawType": "int64",
         "type": "integer"
        },
        {
         "name": "Response",
         "rawType": "int64",
         "type": "integer"
        }
       ],
       "ref": "a42526d9-d214-4ea6-ae78-3db5546f4da1",
       "rows": [
        [
         "0",
         "5524",
         "1957",
         "Graduation",
         "Single",
         "58138.0",
         "0",
         "0",
         "2012-04-09 00:00:00",
         "58",
         "635",
         "88",
         "546",
         "172",
         "88",
         "88",
         "3",
         "8",
         "10",
         "4",
         "7",
         "0",
         "0",
         "0",
         "0",
         "0",
         "0",
         "3",
         "11",
         "1"
        ],
        [
         "1",
         "2174",
         "1954",
         "Graduation",
         "Single",
         "46344.0",
         "1",
         "1",
         "2014-08-03 00:00:00",
         "38",
         "11",
         "1",
         "6",
         "2",
         "1",
         "6",
         "2",
         "1",
         "1",
         "2",
         "5",
         "0",
         "0",
         "0",
         "0",
         "0",
         "0",
         "3",
         "11",
         "0"
        ],
        [
         "2",
         "4141",
         "1965",
         "Graduation",
         "Together",
         "71613.0",
         "0",
         "0",
         "2013-08-21 00:00:00",
         "26",
         "426",
         "49",
         "127",
         "111",
         "21",
         "42",
         "1",
         "8",
         "2",
         "10",
         "4",
         "0",
         "0",
         "0",
         "0",
         "0",
         "0",
         "3",
         "11",
         "0"
        ],
        [
         "3",
         "6182",
         "1984",
         "Graduation",
         "Together",
         "26646.0",
         "1",
         "0",
         "2014-10-02 00:00:00",
         "26",
         "11",
         "4",
         "20",
         "10",
         "3",
         "5",
         "2",
         "2",
         "0",
         "4",
         "6",
         "0",
         "0",
         "0",
         "0",
         "0",
         "0",
         "3",
         "11",
         "0"
        ],
        [
         "4",
         "5324",
         "1981",
         "PhD",
         "Married",
         "58293.0",
         "1",
         "0",
         "2014-01-19 00:00:00",
         "94",
         "173",
         "43",
         "118",
         "46",
         "27",
         "15",
         "5",
         "5",
         "3",
         "6",
         "5",
         "0",
         "0",
         "0",
         "0",
         "0",
         "0",
         "3",
         "11",
         "0"
        ]
       ],
       "shape": {
        "columns": 29,
        "rows": 5
       }
      },
      "text/html": [
       "<div>\n",
       "<style scoped>\n",
       "    .dataframe tbody tr th:only-of-type {\n",
       "        vertical-align: middle;\n",
       "    }\n",
       "\n",
       "    .dataframe tbody tr th {\n",
       "        vertical-align: top;\n",
       "    }\n",
       "\n",
       "    .dataframe thead th {\n",
       "        text-align: right;\n",
       "    }\n",
       "</style>\n",
       "<table border=\"1\" class=\"dataframe\">\n",
       "  <thead>\n",
       "    <tr style=\"text-align: right;\">\n",
       "      <th></th>\n",
       "      <th>ID</th>\n",
       "      <th>Year_Birth</th>\n",
       "      <th>Education</th>\n",
       "      <th>Marital_Status</th>\n",
       "      <th>Income</th>\n",
       "      <th>Kidhome</th>\n",
       "      <th>Teenhome</th>\n",
       "      <th>Dt_Customer</th>\n",
       "      <th>Recency</th>\n",
       "      <th>MntWines</th>\n",
       "      <th>...</th>\n",
       "      <th>NumWebVisitsMonth</th>\n",
       "      <th>AcceptedCmp3</th>\n",
       "      <th>AcceptedCmp4</th>\n",
       "      <th>AcceptedCmp5</th>\n",
       "      <th>AcceptedCmp1</th>\n",
       "      <th>AcceptedCmp2</th>\n",
       "      <th>Complain</th>\n",
       "      <th>Z_CostContact</th>\n",
       "      <th>Z_Revenue</th>\n",
       "      <th>Response</th>\n",
       "    </tr>\n",
       "  </thead>\n",
       "  <tbody>\n",
       "    <tr>\n",
       "      <th>0</th>\n",
       "      <td>5524</td>\n",
       "      <td>1957</td>\n",
       "      <td>Graduation</td>\n",
       "      <td>Single</td>\n",
       "      <td>58138.0</td>\n",
       "      <td>0</td>\n",
       "      <td>0</td>\n",
       "      <td>2012-04-09</td>\n",
       "      <td>58</td>\n",
       "      <td>635</td>\n",
       "      <td>...</td>\n",
       "      <td>7</td>\n",
       "      <td>0</td>\n",
       "      <td>0</td>\n",
       "      <td>0</td>\n",
       "      <td>0</td>\n",
       "      <td>0</td>\n",
       "      <td>0</td>\n",
       "      <td>3</td>\n",
       "      <td>11</td>\n",
       "      <td>1</td>\n",
       "    </tr>\n",
       "    <tr>\n",
       "      <th>1</th>\n",
       "      <td>2174</td>\n",
       "      <td>1954</td>\n",
       "      <td>Graduation</td>\n",
       "      <td>Single</td>\n",
       "      <td>46344.0</td>\n",
       "      <td>1</td>\n",
       "      <td>1</td>\n",
       "      <td>2014-08-03</td>\n",
       "      <td>38</td>\n",
       "      <td>11</td>\n",
       "      <td>...</td>\n",
       "      <td>5</td>\n",
       "      <td>0</td>\n",
       "      <td>0</td>\n",
       "      <td>0</td>\n",
       "      <td>0</td>\n",
       "      <td>0</td>\n",
       "      <td>0</td>\n",
       "      <td>3</td>\n",
       "      <td>11</td>\n",
       "      <td>0</td>\n",
       "    </tr>\n",
       "    <tr>\n",
       "      <th>2</th>\n",
       "      <td>4141</td>\n",
       "      <td>1965</td>\n",
       "      <td>Graduation</td>\n",
       "      <td>Together</td>\n",
       "      <td>71613.0</td>\n",
       "      <td>0</td>\n",
       "      <td>0</td>\n",
       "      <td>2013-08-21</td>\n",
       "      <td>26</td>\n",
       "      <td>426</td>\n",
       "      <td>...</td>\n",
       "      <td>4</td>\n",
       "      <td>0</td>\n",
       "      <td>0</td>\n",
       "      <td>0</td>\n",
       "      <td>0</td>\n",
       "      <td>0</td>\n",
       "      <td>0</td>\n",
       "      <td>3</td>\n",
       "      <td>11</td>\n",
       "      <td>0</td>\n",
       "    </tr>\n",
       "    <tr>\n",
       "      <th>3</th>\n",
       "      <td>6182</td>\n",
       "      <td>1984</td>\n",
       "      <td>Graduation</td>\n",
       "      <td>Together</td>\n",
       "      <td>26646.0</td>\n",
       "      <td>1</td>\n",
       "      <td>0</td>\n",
       "      <td>2014-10-02</td>\n",
       "      <td>26</td>\n",
       "      <td>11</td>\n",
       "      <td>...</td>\n",
       "      <td>6</td>\n",
       "      <td>0</td>\n",
       "      <td>0</td>\n",
       "      <td>0</td>\n",
       "      <td>0</td>\n",
       "      <td>0</td>\n",
       "      <td>0</td>\n",
       "      <td>3</td>\n",
       "      <td>11</td>\n",
       "      <td>0</td>\n",
       "    </tr>\n",
       "    <tr>\n",
       "      <th>4</th>\n",
       "      <td>5324</td>\n",
       "      <td>1981</td>\n",
       "      <td>PhD</td>\n",
       "      <td>Married</td>\n",
       "      <td>58293.0</td>\n",
       "      <td>1</td>\n",
       "      <td>0</td>\n",
       "      <td>2014-01-19</td>\n",
       "      <td>94</td>\n",
       "      <td>173</td>\n",
       "      <td>...</td>\n",
       "      <td>5</td>\n",
       "      <td>0</td>\n",
       "      <td>0</td>\n",
       "      <td>0</td>\n",
       "      <td>0</td>\n",
       "      <td>0</td>\n",
       "      <td>0</td>\n",
       "      <td>3</td>\n",
       "      <td>11</td>\n",
       "      <td>0</td>\n",
       "    </tr>\n",
       "  </tbody>\n",
       "</table>\n",
       "<p>5 rows × 29 columns</p>\n",
       "</div>"
      ],
      "text/plain": [
       "     ID  Year_Birth   Education Marital_Status   Income  Kidhome  Teenhome  \\\n",
       "0  5524        1957  Graduation         Single  58138.0        0         0   \n",
       "1  2174        1954  Graduation         Single  46344.0        1         1   \n",
       "2  4141        1965  Graduation       Together  71613.0        0         0   \n",
       "3  6182        1984  Graduation       Together  26646.0        1         0   \n",
       "4  5324        1981         PhD        Married  58293.0        1         0   \n",
       "\n",
       "  Dt_Customer  Recency  MntWines  ...  NumWebVisitsMonth  AcceptedCmp3  \\\n",
       "0  2012-04-09       58       635  ...                  7             0   \n",
       "1  2014-08-03       38        11  ...                  5             0   \n",
       "2  2013-08-21       26       426  ...                  4             0   \n",
       "3  2014-10-02       26        11  ...                  6             0   \n",
       "4  2014-01-19       94       173  ...                  5             0   \n",
       "\n",
       "   AcceptedCmp4  AcceptedCmp5  AcceptedCmp1  AcceptedCmp2  Complain  \\\n",
       "0             0             0             0             0         0   \n",
       "1             0             0             0             0         0   \n",
       "2             0             0             0             0         0   \n",
       "3             0             0             0             0         0   \n",
       "4             0             0             0             0         0   \n",
       "\n",
       "   Z_CostContact  Z_Revenue  Response  \n",
       "0              3         11         1  \n",
       "1              3         11         0  \n",
       "2              3         11         0  \n",
       "3              3         11         0  \n",
       "4              3         11         0  \n",
       "\n",
       "[5 rows x 29 columns]"
      ]
     },
     "execution_count": 8,
     "metadata": {},
     "output_type": "execute_result"
    }
   ],
   "source": [
    "df[\"Income\"] = df[\"Income\"].replace(np.NaN, df[\"Income\"].median())\n",
    "df.head()"
   ]
  },
  {
   "cell_type": "code",
   "execution_count": 9,
   "id": "ae82e5e1",
   "metadata": {},
   "outputs": [
    {
     "data": {
      "application/vnd.microsoft.datawrangler.viewer.v0+json": {
       "columns": [
        {
         "name": "index",
         "rawType": "object",
         "type": "string"
        },
        {
         "name": "0",
         "rawType": "int64",
         "type": "integer"
        }
       ],
       "ref": "e268880b-bf8a-45e7-b0fe-9e35a4d7220f",
       "rows": [
        [
         "ID",
         "2240"
        ],
        [
         "Year_Birth",
         "2240"
        ],
        [
         "Education",
         "2240"
        ],
        [
         "Marital_Status",
         "2240"
        ],
        [
         "Income",
         "2240"
        ],
        [
         "Kidhome",
         "2240"
        ],
        [
         "Teenhome",
         "2240"
        ],
        [
         "Dt_Customer",
         "2240"
        ],
        [
         "Recency",
         "2240"
        ],
        [
         "MntWines",
         "2240"
        ],
        [
         "MntFruits",
         "2240"
        ],
        [
         "MntMeatProducts",
         "2240"
        ],
        [
         "MntFishProducts",
         "2240"
        ],
        [
         "MntSweetProducts",
         "2240"
        ],
        [
         "MntGoldProds",
         "2240"
        ],
        [
         "NumDealsPurchases",
         "2240"
        ],
        [
         "NumWebPurchases",
         "2240"
        ],
        [
         "NumCatalogPurchases",
         "2240"
        ],
        [
         "NumStorePurchases",
         "2240"
        ],
        [
         "NumWebVisitsMonth",
         "2240"
        ],
        [
         "AcceptedCmp3",
         "2240"
        ],
        [
         "AcceptedCmp4",
         "2240"
        ],
        [
         "AcceptedCmp5",
         "2240"
        ],
        [
         "AcceptedCmp1",
         "2240"
        ],
        [
         "AcceptedCmp2",
         "2240"
        ],
        [
         "Complain",
         "2240"
        ],
        [
         "Z_CostContact",
         "2240"
        ],
        [
         "Z_Revenue",
         "2240"
        ],
        [
         "Response",
         "2240"
        ]
       ],
       "shape": {
        "columns": 1,
        "rows": 29
       }
      },
      "text/plain": [
       "ID                     2240\n",
       "Year_Birth             2240\n",
       "Education              2240\n",
       "Marital_Status         2240\n",
       "Income                 2240\n",
       "Kidhome                2240\n",
       "Teenhome               2240\n",
       "Dt_Customer            2240\n",
       "Recency                2240\n",
       "MntWines               2240\n",
       "MntFruits              2240\n",
       "MntMeatProducts        2240\n",
       "MntFishProducts        2240\n",
       "MntSweetProducts       2240\n",
       "MntGoldProds           2240\n",
       "NumDealsPurchases      2240\n",
       "NumWebPurchases        2240\n",
       "NumCatalogPurchases    2240\n",
       "NumStorePurchases      2240\n",
       "NumWebVisitsMonth      2240\n",
       "AcceptedCmp3           2240\n",
       "AcceptedCmp4           2240\n",
       "AcceptedCmp5           2240\n",
       "AcceptedCmp1           2240\n",
       "AcceptedCmp2           2240\n",
       "Complain               2240\n",
       "Z_CostContact          2240\n",
       "Z_Revenue              2240\n",
       "Response               2240\n",
       "dtype: int64"
      ]
     },
     "execution_count": 9,
     "metadata": {},
     "output_type": "execute_result"
    }
   ],
   "source": [
    "df.count()"
   ]
  },
  {
   "cell_type": "code",
   "execution_count": 10,
   "id": "d126445c",
   "metadata": {},
   "outputs": [
    {
     "data": {
      "application/vnd.microsoft.datawrangler.viewer.v0+json": {
       "columns": [
        {
         "name": "index",
         "rawType": "int64",
         "type": "integer"
        },
        {
         "name": "ID",
         "rawType": "int64",
         "type": "integer"
        },
        {
         "name": "Year_Birth",
         "rawType": "int64",
         "type": "integer"
        },
        {
         "name": "Education",
         "rawType": "object",
         "type": "string"
        },
        {
         "name": "Marital_Status",
         "rawType": "object",
         "type": "string"
        },
        {
         "name": "Income",
         "rawType": "float64",
         "type": "float"
        },
        {
         "name": "Kidhome",
         "rawType": "int64",
         "type": "integer"
        },
        {
         "name": "Teenhome",
         "rawType": "int64",
         "type": "integer"
        },
        {
         "name": "Dt_Customer",
         "rawType": "datetime64[ns]",
         "type": "datetime"
        },
        {
         "name": "Recency",
         "rawType": "int64",
         "type": "integer"
        },
        {
         "name": "MntWines",
         "rawType": "int64",
         "type": "integer"
        },
        {
         "name": "MntFruits",
         "rawType": "int64",
         "type": "integer"
        },
        {
         "name": "MntMeatProducts",
         "rawType": "int64",
         "type": "integer"
        },
        {
         "name": "MntFishProducts",
         "rawType": "int64",
         "type": "integer"
        },
        {
         "name": "MntSweetProducts",
         "rawType": "int64",
         "type": "integer"
        },
        {
         "name": "MntGoldProds",
         "rawType": "int64",
         "type": "integer"
        },
        {
         "name": "NumDealsPurchases",
         "rawType": "int64",
         "type": "integer"
        },
        {
         "name": "NumWebPurchases",
         "rawType": "int64",
         "type": "integer"
        },
        {
         "name": "NumCatalogPurchases",
         "rawType": "int64",
         "type": "integer"
        },
        {
         "name": "NumStorePurchases",
         "rawType": "int64",
         "type": "integer"
        },
        {
         "name": "NumWebVisitsMonth",
         "rawType": "int64",
         "type": "integer"
        },
        {
         "name": "AcceptedCmp3",
         "rawType": "int64",
         "type": "integer"
        },
        {
         "name": "AcceptedCmp4",
         "rawType": "int64",
         "type": "integer"
        },
        {
         "name": "AcceptedCmp5",
         "rawType": "int64",
         "type": "integer"
        },
        {
         "name": "AcceptedCmp1",
         "rawType": "int64",
         "type": "integer"
        },
        {
         "name": "AcceptedCmp2",
         "rawType": "int64",
         "type": "integer"
        },
        {
         "name": "Complain",
         "rawType": "int64",
         "type": "integer"
        },
        {
         "name": "Z_CostContact",
         "rawType": "int64",
         "type": "integer"
        },
        {
         "name": "Z_Revenue",
         "rawType": "int64",
         "type": "integer"
        },
        {
         "name": "Response",
         "rawType": "int64",
         "type": "integer"
        }
       ],
       "ref": "57cac45a-6528-4099-8b9f-eea8d568d162",
       "rows": [
        [
         "0",
         "5524",
         "1957",
         "Graduation",
         "Single",
         "58138.0",
         "0",
         "0",
         "2012-04-09 00:00:00",
         "58",
         "635",
         "88",
         "546",
         "172",
         "88",
         "88",
         "3",
         "8",
         "10",
         "4",
         "7",
         "0",
         "0",
         "0",
         "0",
         "0",
         "0",
         "3",
         "11",
         "1"
        ],
        [
         "1",
         "2174",
         "1954",
         "Graduation",
         "Single",
         "46344.0",
         "1",
         "1",
         "2014-08-03 00:00:00",
         "38",
         "11",
         "1",
         "6",
         "2",
         "1",
         "6",
         "2",
         "1",
         "1",
         "2",
         "5",
         "0",
         "0",
         "0",
         "0",
         "0",
         "0",
         "3",
         "11",
         "0"
        ],
        [
         "2",
         "4141",
         "1965",
         "Graduation",
         "Together",
         "71613.0",
         "0",
         "0",
         "2013-08-21 00:00:00",
         "26",
         "426",
         "49",
         "127",
         "111",
         "21",
         "42",
         "1",
         "8",
         "2",
         "10",
         "4",
         "0",
         "0",
         "0",
         "0",
         "0",
         "0",
         "3",
         "11",
         "0"
        ],
        [
         "3",
         "6182",
         "1984",
         "Graduation",
         "Together",
         "26646.0",
         "1",
         "0",
         "2014-10-02 00:00:00",
         "26",
         "11",
         "4",
         "20",
         "10",
         "3",
         "5",
         "2",
         "2",
         "0",
         "4",
         "6",
         "0",
         "0",
         "0",
         "0",
         "0",
         "0",
         "3",
         "11",
         "0"
        ],
        [
         "4",
         "5324",
         "1981",
         "PhD",
         "Married",
         "58293.0",
         "1",
         "0",
         "2014-01-19 00:00:00",
         "94",
         "173",
         "43",
         "118",
         "46",
         "27",
         "15",
         "5",
         "5",
         "3",
         "6",
         "5",
         "0",
         "0",
         "0",
         "0",
         "0",
         "0",
         "3",
         "11",
         "0"
        ]
       ],
       "shape": {
        "columns": 29,
        "rows": 5
       }
      },
      "text/html": [
       "<div>\n",
       "<style scoped>\n",
       "    .dataframe tbody tr th:only-of-type {\n",
       "        vertical-align: middle;\n",
       "    }\n",
       "\n",
       "    .dataframe tbody tr th {\n",
       "        vertical-align: top;\n",
       "    }\n",
       "\n",
       "    .dataframe thead th {\n",
       "        text-align: right;\n",
       "    }\n",
       "</style>\n",
       "<table border=\"1\" class=\"dataframe\">\n",
       "  <thead>\n",
       "    <tr style=\"text-align: right;\">\n",
       "      <th></th>\n",
       "      <th>ID</th>\n",
       "      <th>Year_Birth</th>\n",
       "      <th>Education</th>\n",
       "      <th>Marital_Status</th>\n",
       "      <th>Income</th>\n",
       "      <th>Kidhome</th>\n",
       "      <th>Teenhome</th>\n",
       "      <th>Dt_Customer</th>\n",
       "      <th>Recency</th>\n",
       "      <th>MntWines</th>\n",
       "      <th>...</th>\n",
       "      <th>NumWebVisitsMonth</th>\n",
       "      <th>AcceptedCmp3</th>\n",
       "      <th>AcceptedCmp4</th>\n",
       "      <th>AcceptedCmp5</th>\n",
       "      <th>AcceptedCmp1</th>\n",
       "      <th>AcceptedCmp2</th>\n",
       "      <th>Complain</th>\n",
       "      <th>Z_CostContact</th>\n",
       "      <th>Z_Revenue</th>\n",
       "      <th>Response</th>\n",
       "    </tr>\n",
       "  </thead>\n",
       "  <tbody>\n",
       "    <tr>\n",
       "      <th>0</th>\n",
       "      <td>5524</td>\n",
       "      <td>1957</td>\n",
       "      <td>Graduation</td>\n",
       "      <td>Single</td>\n",
       "      <td>58138.0</td>\n",
       "      <td>0</td>\n",
       "      <td>0</td>\n",
       "      <td>2012-04-09</td>\n",
       "      <td>58</td>\n",
       "      <td>635</td>\n",
       "      <td>...</td>\n",
       "      <td>7</td>\n",
       "      <td>0</td>\n",
       "      <td>0</td>\n",
       "      <td>0</td>\n",
       "      <td>0</td>\n",
       "      <td>0</td>\n",
       "      <td>0</td>\n",
       "      <td>3</td>\n",
       "      <td>11</td>\n",
       "      <td>1</td>\n",
       "    </tr>\n",
       "    <tr>\n",
       "      <th>1</th>\n",
       "      <td>2174</td>\n",
       "      <td>1954</td>\n",
       "      <td>Graduation</td>\n",
       "      <td>Single</td>\n",
       "      <td>46344.0</td>\n",
       "      <td>1</td>\n",
       "      <td>1</td>\n",
       "      <td>2014-08-03</td>\n",
       "      <td>38</td>\n",
       "      <td>11</td>\n",
       "      <td>...</td>\n",
       "      <td>5</td>\n",
       "      <td>0</td>\n",
       "      <td>0</td>\n",
       "      <td>0</td>\n",
       "      <td>0</td>\n",
       "      <td>0</td>\n",
       "      <td>0</td>\n",
       "      <td>3</td>\n",
       "      <td>11</td>\n",
       "      <td>0</td>\n",
       "    </tr>\n",
       "    <tr>\n",
       "      <th>2</th>\n",
       "      <td>4141</td>\n",
       "      <td>1965</td>\n",
       "      <td>Graduation</td>\n",
       "      <td>Together</td>\n",
       "      <td>71613.0</td>\n",
       "      <td>0</td>\n",
       "      <td>0</td>\n",
       "      <td>2013-08-21</td>\n",
       "      <td>26</td>\n",
       "      <td>426</td>\n",
       "      <td>...</td>\n",
       "      <td>4</td>\n",
       "      <td>0</td>\n",
       "      <td>0</td>\n",
       "      <td>0</td>\n",
       "      <td>0</td>\n",
       "      <td>0</td>\n",
       "      <td>0</td>\n",
       "      <td>3</td>\n",
       "      <td>11</td>\n",
       "      <td>0</td>\n",
       "    </tr>\n",
       "    <tr>\n",
       "      <th>3</th>\n",
       "      <td>6182</td>\n",
       "      <td>1984</td>\n",
       "      <td>Graduation</td>\n",
       "      <td>Together</td>\n",
       "      <td>26646.0</td>\n",
       "      <td>1</td>\n",
       "      <td>0</td>\n",
       "      <td>2014-10-02</td>\n",
       "      <td>26</td>\n",
       "      <td>11</td>\n",
       "      <td>...</td>\n",
       "      <td>6</td>\n",
       "      <td>0</td>\n",
       "      <td>0</td>\n",
       "      <td>0</td>\n",
       "      <td>0</td>\n",
       "      <td>0</td>\n",
       "      <td>0</td>\n",
       "      <td>3</td>\n",
       "      <td>11</td>\n",
       "      <td>0</td>\n",
       "    </tr>\n",
       "    <tr>\n",
       "      <th>4</th>\n",
       "      <td>5324</td>\n",
       "      <td>1981</td>\n",
       "      <td>PhD</td>\n",
       "      <td>Married</td>\n",
       "      <td>58293.0</td>\n",
       "      <td>1</td>\n",
       "      <td>0</td>\n",
       "      <td>2014-01-19</td>\n",
       "      <td>94</td>\n",
       "      <td>173</td>\n",
       "      <td>...</td>\n",
       "      <td>5</td>\n",
       "      <td>0</td>\n",
       "      <td>0</td>\n",
       "      <td>0</td>\n",
       "      <td>0</td>\n",
       "      <td>0</td>\n",
       "      <td>0</td>\n",
       "      <td>3</td>\n",
       "      <td>11</td>\n",
       "      <td>0</td>\n",
       "    </tr>\n",
       "  </tbody>\n",
       "</table>\n",
       "<p>5 rows × 29 columns</p>\n",
       "</div>"
      ],
      "text/plain": [
       "     ID  Year_Birth   Education Marital_Status   Income  Kidhome  Teenhome  \\\n",
       "0  5524        1957  Graduation         Single  58138.0        0         0   \n",
       "1  2174        1954  Graduation         Single  46344.0        1         1   \n",
       "2  4141        1965  Graduation       Together  71613.0        0         0   \n",
       "3  6182        1984  Graduation       Together  26646.0        1         0   \n",
       "4  5324        1981         PhD        Married  58293.0        1         0   \n",
       "\n",
       "  Dt_Customer  Recency  MntWines  ...  NumWebVisitsMonth  AcceptedCmp3  \\\n",
       "0  2012-04-09       58       635  ...                  7             0   \n",
       "1  2014-08-03       38        11  ...                  5             0   \n",
       "2  2013-08-21       26       426  ...                  4             0   \n",
       "3  2014-10-02       26        11  ...                  6             0   \n",
       "4  2014-01-19       94       173  ...                  5             0   \n",
       "\n",
       "   AcceptedCmp4  AcceptedCmp5  AcceptedCmp1  AcceptedCmp2  Complain  \\\n",
       "0             0             0             0             0         0   \n",
       "1             0             0             0             0         0   \n",
       "2             0             0             0             0         0   \n",
       "3             0             0             0             0         0   \n",
       "4             0             0             0             0         0   \n",
       "\n",
       "   Z_CostContact  Z_Revenue  Response  \n",
       "0              3         11         1  \n",
       "1              3         11         0  \n",
       "2              3         11         0  \n",
       "3              3         11         0  \n",
       "4              3         11         0  \n",
       "\n",
       "[5 rows x 29 columns]"
      ]
     },
     "execution_count": 10,
     "metadata": {},
     "output_type": "execute_result"
    }
   ],
   "source": [
    "df.head()"
   ]
  },
  {
   "cell_type": "code",
   "execution_count": 11,
   "id": "992e9b7f",
   "metadata": {},
   "outputs": [
    {
     "name": "stdout",
     "output_type": "stream",
     "text": [
      "Z_CostContact  Z_Revenue\n",
      "3              11           2240\n",
      "Name: count, dtype: int64\n"
     ]
    }
   ],
   "source": [
    "print(df[[\"Z_CostContact\", \"Z_Revenue\"]].value_counts(dropna=False))"
   ]
  },
  {
   "cell_type": "markdown",
   "id": "decf5953",
   "metadata": {},
   "source": [
    "Disini terlihat kolom \"Z_CostContact\" dan \"Z_Revenue\" memiliki isi yang konstant. Maka dari itu kolom ID, Z_CostContact, dan Z_Revenue akan dihapus agar data semakin lean."
   ]
  },
  {
   "cell_type": "code",
   "execution_count": 12,
   "id": "5f43da85",
   "metadata": {},
   "outputs": [],
   "source": [
    "df.drop(['Z_CostContact', 'Z_Revenue'], axis=1, inplace=True)"
   ]
  },
  {
   "cell_type": "code",
   "execution_count": 13,
   "id": "f9738ac3",
   "metadata": {},
   "outputs": [
    {
     "data": {
      "application/vnd.microsoft.datawrangler.viewer.v0+json": {
       "columns": [
        {
         "name": "index",
         "rawType": "int64",
         "type": "integer"
        },
        {
         "name": "ID",
         "rawType": "int64",
         "type": "integer"
        },
        {
         "name": "Year_Birth",
         "rawType": "int64",
         "type": "integer"
        },
        {
         "name": "Education",
         "rawType": "object",
         "type": "string"
        },
        {
         "name": "Marital_Status",
         "rawType": "object",
         "type": "string"
        },
        {
         "name": "Income",
         "rawType": "float64",
         "type": "float"
        },
        {
         "name": "Kidhome",
         "rawType": "int64",
         "type": "integer"
        },
        {
         "name": "Teenhome",
         "rawType": "int64",
         "type": "integer"
        },
        {
         "name": "Dt_Customer",
         "rawType": "datetime64[ns]",
         "type": "datetime"
        },
        {
         "name": "Recency",
         "rawType": "int64",
         "type": "integer"
        },
        {
         "name": "MntWines",
         "rawType": "int64",
         "type": "integer"
        },
        {
         "name": "MntFruits",
         "rawType": "int64",
         "type": "integer"
        },
        {
         "name": "MntMeatProducts",
         "rawType": "int64",
         "type": "integer"
        },
        {
         "name": "MntFishProducts",
         "rawType": "int64",
         "type": "integer"
        },
        {
         "name": "MntSweetProducts",
         "rawType": "int64",
         "type": "integer"
        },
        {
         "name": "MntGoldProds",
         "rawType": "int64",
         "type": "integer"
        },
        {
         "name": "NumDealsPurchases",
         "rawType": "int64",
         "type": "integer"
        },
        {
         "name": "NumWebPurchases",
         "rawType": "int64",
         "type": "integer"
        },
        {
         "name": "NumCatalogPurchases",
         "rawType": "int64",
         "type": "integer"
        },
        {
         "name": "NumStorePurchases",
         "rawType": "int64",
         "type": "integer"
        },
        {
         "name": "NumWebVisitsMonth",
         "rawType": "int64",
         "type": "integer"
        },
        {
         "name": "AcceptedCmp3",
         "rawType": "int64",
         "type": "integer"
        },
        {
         "name": "AcceptedCmp4",
         "rawType": "int64",
         "type": "integer"
        },
        {
         "name": "AcceptedCmp5",
         "rawType": "int64",
         "type": "integer"
        },
        {
         "name": "AcceptedCmp1",
         "rawType": "int64",
         "type": "integer"
        },
        {
         "name": "AcceptedCmp2",
         "rawType": "int64",
         "type": "integer"
        },
        {
         "name": "Complain",
         "rawType": "int64",
         "type": "integer"
        },
        {
         "name": "Response",
         "rawType": "int64",
         "type": "integer"
        }
       ],
       "ref": "c0a04d21-2a2b-48c9-b59c-c59bd5d6a9b8",
       "rows": [
        [
         "0",
         "5524",
         "1957",
         "Graduation",
         "Single",
         "58138.0",
         "0",
         "0",
         "2012-04-09 00:00:00",
         "58",
         "635",
         "88",
         "546",
         "172",
         "88",
         "88",
         "3",
         "8",
         "10",
         "4",
         "7",
         "0",
         "0",
         "0",
         "0",
         "0",
         "0",
         "1"
        ],
        [
         "1",
         "2174",
         "1954",
         "Graduation",
         "Single",
         "46344.0",
         "1",
         "1",
         "2014-08-03 00:00:00",
         "38",
         "11",
         "1",
         "6",
         "2",
         "1",
         "6",
         "2",
         "1",
         "1",
         "2",
         "5",
         "0",
         "0",
         "0",
         "0",
         "0",
         "0",
         "0"
        ],
        [
         "2",
         "4141",
         "1965",
         "Graduation",
         "Together",
         "71613.0",
         "0",
         "0",
         "2013-08-21 00:00:00",
         "26",
         "426",
         "49",
         "127",
         "111",
         "21",
         "42",
         "1",
         "8",
         "2",
         "10",
         "4",
         "0",
         "0",
         "0",
         "0",
         "0",
         "0",
         "0"
        ],
        [
         "3",
         "6182",
         "1984",
         "Graduation",
         "Together",
         "26646.0",
         "1",
         "0",
         "2014-10-02 00:00:00",
         "26",
         "11",
         "4",
         "20",
         "10",
         "3",
         "5",
         "2",
         "2",
         "0",
         "4",
         "6",
         "0",
         "0",
         "0",
         "0",
         "0",
         "0",
         "0"
        ],
        [
         "4",
         "5324",
         "1981",
         "PhD",
         "Married",
         "58293.0",
         "1",
         "0",
         "2014-01-19 00:00:00",
         "94",
         "173",
         "43",
         "118",
         "46",
         "27",
         "15",
         "5",
         "5",
         "3",
         "6",
         "5",
         "0",
         "0",
         "0",
         "0",
         "0",
         "0",
         "0"
        ]
       ],
       "shape": {
        "columns": 27,
        "rows": 5
       }
      },
      "text/html": [
       "<div>\n",
       "<style scoped>\n",
       "    .dataframe tbody tr th:only-of-type {\n",
       "        vertical-align: middle;\n",
       "    }\n",
       "\n",
       "    .dataframe tbody tr th {\n",
       "        vertical-align: top;\n",
       "    }\n",
       "\n",
       "    .dataframe thead th {\n",
       "        text-align: right;\n",
       "    }\n",
       "</style>\n",
       "<table border=\"1\" class=\"dataframe\">\n",
       "  <thead>\n",
       "    <tr style=\"text-align: right;\">\n",
       "      <th></th>\n",
       "      <th>ID</th>\n",
       "      <th>Year_Birth</th>\n",
       "      <th>Education</th>\n",
       "      <th>Marital_Status</th>\n",
       "      <th>Income</th>\n",
       "      <th>Kidhome</th>\n",
       "      <th>Teenhome</th>\n",
       "      <th>Dt_Customer</th>\n",
       "      <th>Recency</th>\n",
       "      <th>MntWines</th>\n",
       "      <th>...</th>\n",
       "      <th>NumCatalogPurchases</th>\n",
       "      <th>NumStorePurchases</th>\n",
       "      <th>NumWebVisitsMonth</th>\n",
       "      <th>AcceptedCmp3</th>\n",
       "      <th>AcceptedCmp4</th>\n",
       "      <th>AcceptedCmp5</th>\n",
       "      <th>AcceptedCmp1</th>\n",
       "      <th>AcceptedCmp2</th>\n",
       "      <th>Complain</th>\n",
       "      <th>Response</th>\n",
       "    </tr>\n",
       "  </thead>\n",
       "  <tbody>\n",
       "    <tr>\n",
       "      <th>0</th>\n",
       "      <td>5524</td>\n",
       "      <td>1957</td>\n",
       "      <td>Graduation</td>\n",
       "      <td>Single</td>\n",
       "      <td>58138.0</td>\n",
       "      <td>0</td>\n",
       "      <td>0</td>\n",
       "      <td>2012-04-09</td>\n",
       "      <td>58</td>\n",
       "      <td>635</td>\n",
       "      <td>...</td>\n",
       "      <td>10</td>\n",
       "      <td>4</td>\n",
       "      <td>7</td>\n",
       "      <td>0</td>\n",
       "      <td>0</td>\n",
       "      <td>0</td>\n",
       "      <td>0</td>\n",
       "      <td>0</td>\n",
       "      <td>0</td>\n",
       "      <td>1</td>\n",
       "    </tr>\n",
       "    <tr>\n",
       "      <th>1</th>\n",
       "      <td>2174</td>\n",
       "      <td>1954</td>\n",
       "      <td>Graduation</td>\n",
       "      <td>Single</td>\n",
       "      <td>46344.0</td>\n",
       "      <td>1</td>\n",
       "      <td>1</td>\n",
       "      <td>2014-08-03</td>\n",
       "      <td>38</td>\n",
       "      <td>11</td>\n",
       "      <td>...</td>\n",
       "      <td>1</td>\n",
       "      <td>2</td>\n",
       "      <td>5</td>\n",
       "      <td>0</td>\n",
       "      <td>0</td>\n",
       "      <td>0</td>\n",
       "      <td>0</td>\n",
       "      <td>0</td>\n",
       "      <td>0</td>\n",
       "      <td>0</td>\n",
       "    </tr>\n",
       "    <tr>\n",
       "      <th>2</th>\n",
       "      <td>4141</td>\n",
       "      <td>1965</td>\n",
       "      <td>Graduation</td>\n",
       "      <td>Together</td>\n",
       "      <td>71613.0</td>\n",
       "      <td>0</td>\n",
       "      <td>0</td>\n",
       "      <td>2013-08-21</td>\n",
       "      <td>26</td>\n",
       "      <td>426</td>\n",
       "      <td>...</td>\n",
       "      <td>2</td>\n",
       "      <td>10</td>\n",
       "      <td>4</td>\n",
       "      <td>0</td>\n",
       "      <td>0</td>\n",
       "      <td>0</td>\n",
       "      <td>0</td>\n",
       "      <td>0</td>\n",
       "      <td>0</td>\n",
       "      <td>0</td>\n",
       "    </tr>\n",
       "    <tr>\n",
       "      <th>3</th>\n",
       "      <td>6182</td>\n",
       "      <td>1984</td>\n",
       "      <td>Graduation</td>\n",
       "      <td>Together</td>\n",
       "      <td>26646.0</td>\n",
       "      <td>1</td>\n",
       "      <td>0</td>\n",
       "      <td>2014-10-02</td>\n",
       "      <td>26</td>\n",
       "      <td>11</td>\n",
       "      <td>...</td>\n",
       "      <td>0</td>\n",
       "      <td>4</td>\n",
       "      <td>6</td>\n",
       "      <td>0</td>\n",
       "      <td>0</td>\n",
       "      <td>0</td>\n",
       "      <td>0</td>\n",
       "      <td>0</td>\n",
       "      <td>0</td>\n",
       "      <td>0</td>\n",
       "    </tr>\n",
       "    <tr>\n",
       "      <th>4</th>\n",
       "      <td>5324</td>\n",
       "      <td>1981</td>\n",
       "      <td>PhD</td>\n",
       "      <td>Married</td>\n",
       "      <td>58293.0</td>\n",
       "      <td>1</td>\n",
       "      <td>0</td>\n",
       "      <td>2014-01-19</td>\n",
       "      <td>94</td>\n",
       "      <td>173</td>\n",
       "      <td>...</td>\n",
       "      <td>3</td>\n",
       "      <td>6</td>\n",
       "      <td>5</td>\n",
       "      <td>0</td>\n",
       "      <td>0</td>\n",
       "      <td>0</td>\n",
       "      <td>0</td>\n",
       "      <td>0</td>\n",
       "      <td>0</td>\n",
       "      <td>0</td>\n",
       "    </tr>\n",
       "  </tbody>\n",
       "</table>\n",
       "<p>5 rows × 27 columns</p>\n",
       "</div>"
      ],
      "text/plain": [
       "     ID  Year_Birth   Education Marital_Status   Income  Kidhome  Teenhome  \\\n",
       "0  5524        1957  Graduation         Single  58138.0        0         0   \n",
       "1  2174        1954  Graduation         Single  46344.0        1         1   \n",
       "2  4141        1965  Graduation       Together  71613.0        0         0   \n",
       "3  6182        1984  Graduation       Together  26646.0        1         0   \n",
       "4  5324        1981         PhD        Married  58293.0        1         0   \n",
       "\n",
       "  Dt_Customer  Recency  MntWines  ...  NumCatalogPurchases  NumStorePurchases  \\\n",
       "0  2012-04-09       58       635  ...                   10                  4   \n",
       "1  2014-08-03       38        11  ...                    1                  2   \n",
       "2  2013-08-21       26       426  ...                    2                 10   \n",
       "3  2014-10-02       26        11  ...                    0                  4   \n",
       "4  2014-01-19       94       173  ...                    3                  6   \n",
       "\n",
       "   NumWebVisitsMonth  AcceptedCmp3  AcceptedCmp4  AcceptedCmp5  AcceptedCmp1  \\\n",
       "0                  7             0             0             0             0   \n",
       "1                  5             0             0             0             0   \n",
       "2                  4             0             0             0             0   \n",
       "3                  6             0             0             0             0   \n",
       "4                  5             0             0             0             0   \n",
       "\n",
       "   AcceptedCmp2  Complain  Response  \n",
       "0             0         0         1  \n",
       "1             0         0         0  \n",
       "2             0         0         0  \n",
       "3             0         0         0  \n",
       "4             0         0         0  \n",
       "\n",
       "[5 rows x 27 columns]"
      ]
     },
     "execution_count": 13,
     "metadata": {},
     "output_type": "execute_result"
    }
   ],
   "source": [
    "df.head()"
   ]
  },
  {
   "cell_type": "markdown",
   "id": "96cbd741",
   "metadata": {},
   "source": [
    "Pembuatan kolom data baru, yaitu data \"Age\" untuk mendapatkan umur customer, \"Customer Since Years\" untuk mengukur loyalty customer, dan \"Children\" untuk mendapatkan jumlah anak yang dimiliki customer, yang dapat membantu pemrosesan data yang nanti akan dilakukan."
   ]
  },
  {
   "cell_type": "code",
   "execution_count": 14,
   "id": "c41760e1",
   "metadata": {},
   "outputs": [
    {
     "data": {
      "application/vnd.microsoft.datawrangler.viewer.v0+json": {
       "columns": [
        {
         "name": "index",
         "rawType": "int64",
         "type": "integer"
        },
        {
         "name": "Year_Birth",
         "rawType": "int64",
         "type": "integer"
        },
        {
         "name": "Age",
         "rawType": "int64",
         "type": "integer"
        },
        {
         "name": "Dt_Customer",
         "rawType": "datetime64[ns]",
         "type": "datetime"
        },
        {
         "name": "Customer_Since_Years",
         "rawType": "int32",
         "type": "integer"
        },
        {
         "name": "Children",
         "rawType": "int64",
         "type": "integer"
        }
       ],
       "ref": "5598a7db-454b-48b4-b1e3-45767dcbccef",
       "rows": [
        [
         "0",
         "1957",
         "68",
         "2012-04-09 00:00:00",
         "13",
         "0"
        ],
        [
         "1",
         "1954",
         "71",
         "2014-08-03 00:00:00",
         "11",
         "2"
        ],
        [
         "2",
         "1965",
         "60",
         "2013-08-21 00:00:00",
         "12",
         "0"
        ],
        [
         "3",
         "1984",
         "41",
         "2014-10-02 00:00:00",
         "11",
         "1"
        ],
        [
         "4",
         "1981",
         "44",
         "2014-01-19 00:00:00",
         "11",
         "1"
        ]
       ],
       "shape": {
        "columns": 5,
        "rows": 5
       }
      },
      "text/html": [
       "<div>\n",
       "<style scoped>\n",
       "    .dataframe tbody tr th:only-of-type {\n",
       "        vertical-align: middle;\n",
       "    }\n",
       "\n",
       "    .dataframe tbody tr th {\n",
       "        vertical-align: top;\n",
       "    }\n",
       "\n",
       "    .dataframe thead th {\n",
       "        text-align: right;\n",
       "    }\n",
       "</style>\n",
       "<table border=\"1\" class=\"dataframe\">\n",
       "  <thead>\n",
       "    <tr style=\"text-align: right;\">\n",
       "      <th></th>\n",
       "      <th>Year_Birth</th>\n",
       "      <th>Age</th>\n",
       "      <th>Dt_Customer</th>\n",
       "      <th>Customer_Since_Years</th>\n",
       "      <th>Children</th>\n",
       "    </tr>\n",
       "  </thead>\n",
       "  <tbody>\n",
       "    <tr>\n",
       "      <th>0</th>\n",
       "      <td>1957</td>\n",
       "      <td>68</td>\n",
       "      <td>2012-04-09</td>\n",
       "      <td>13</td>\n",
       "      <td>0</td>\n",
       "    </tr>\n",
       "    <tr>\n",
       "      <th>1</th>\n",
       "      <td>1954</td>\n",
       "      <td>71</td>\n",
       "      <td>2014-08-03</td>\n",
       "      <td>11</td>\n",
       "      <td>2</td>\n",
       "    </tr>\n",
       "    <tr>\n",
       "      <th>2</th>\n",
       "      <td>1965</td>\n",
       "      <td>60</td>\n",
       "      <td>2013-08-21</td>\n",
       "      <td>12</td>\n",
       "      <td>0</td>\n",
       "    </tr>\n",
       "    <tr>\n",
       "      <th>3</th>\n",
       "      <td>1984</td>\n",
       "      <td>41</td>\n",
       "      <td>2014-10-02</td>\n",
       "      <td>11</td>\n",
       "      <td>1</td>\n",
       "    </tr>\n",
       "    <tr>\n",
       "      <th>4</th>\n",
       "      <td>1981</td>\n",
       "      <td>44</td>\n",
       "      <td>2014-01-19</td>\n",
       "      <td>11</td>\n",
       "      <td>1</td>\n",
       "    </tr>\n",
       "  </tbody>\n",
       "</table>\n",
       "</div>"
      ],
      "text/plain": [
       "   Year_Birth  Age Dt_Customer  Customer_Since_Years  Children\n",
       "0        1957   68  2012-04-09                    13         0\n",
       "1        1954   71  2014-08-03                    11         2\n",
       "2        1965   60  2013-08-21                    12         0\n",
       "3        1984   41  2014-10-02                    11         1\n",
       "4        1981   44  2014-01-19                    11         1"
      ]
     },
     "execution_count": 14,
     "metadata": {},
     "output_type": "execute_result"
    }
   ],
   "source": [
    "current_year = datetime.now().year\n",
    "df['Age'] = current_year - df['Year_Birth']\n",
    "df['Customer_Since_Years'] = current_year - df['Dt_Customer'].dt.year\n",
    "df['Children'] = df['Kidhome'] + df['Teenhome']\n",
    "\n",
    "df[['Year_Birth', 'Age', 'Dt_Customer', 'Customer_Since_Years', 'Children']].head()"
   ]
  },
  {
   "cell_type": "markdown",
   "id": "6c484065",
   "metadata": {},
   "source": [
    "Juga membuat kolom baru yang berisi total dari keseluruhan barang yang dijual didalam supermarket."
   ]
  },
  {
   "cell_type": "code",
   "execution_count": 15,
   "id": "8d9e0930",
   "metadata": {},
   "outputs": [],
   "source": [
    "pengeluaran = [\n",
    "    'MntWines', 'MntFruits', 'MntMeatProducts',\n",
    "    'MntFishProducts', 'MntSweetProducts', 'MntGoldProds'\n",
    "]\n",
    "df['Total_Spent'] = df[pengeluaran].sum(axis=1)"
   ]
  },
  {
   "cell_type": "code",
   "execution_count": 16,
   "id": "5573d543",
   "metadata": {},
   "outputs": [
    {
     "data": {
      "application/vnd.microsoft.datawrangler.viewer.v0+json": {
       "columns": [
        {
         "name": "index",
         "rawType": "int64",
         "type": "integer"
        },
        {
         "name": "Year_Birth",
         "rawType": "int64",
         "type": "integer"
        },
        {
         "name": "Age",
         "rawType": "int64",
         "type": "integer"
        },
        {
         "name": "Dt_Customer",
         "rawType": "datetime64[ns]",
         "type": "datetime"
        },
        {
         "name": "Customer_Since_Years",
         "rawType": "int32",
         "type": "integer"
        },
        {
         "name": "Children",
         "rawType": "int64",
         "type": "integer"
        },
        {
         "name": "Total_Spent",
         "rawType": "int64",
         "type": "integer"
        }
       ],
       "ref": "ce998326-67af-42b1-8424-8f349be07456",
       "rows": [
        [
         "0",
         "1957",
         "68",
         "2012-04-09 00:00:00",
         "13",
         "0",
         "1617"
        ],
        [
         "1",
         "1954",
         "71",
         "2014-08-03 00:00:00",
         "11",
         "2",
         "27"
        ],
        [
         "2",
         "1965",
         "60",
         "2013-08-21 00:00:00",
         "12",
         "0",
         "776"
        ],
        [
         "3",
         "1984",
         "41",
         "2014-10-02 00:00:00",
         "11",
         "1",
         "53"
        ],
        [
         "4",
         "1981",
         "44",
         "2014-01-19 00:00:00",
         "11",
         "1",
         "422"
        ]
       ],
       "shape": {
        "columns": 6,
        "rows": 5
       }
      },
      "text/html": [
       "<div>\n",
       "<style scoped>\n",
       "    .dataframe tbody tr th:only-of-type {\n",
       "        vertical-align: middle;\n",
       "    }\n",
       "\n",
       "    .dataframe tbody tr th {\n",
       "        vertical-align: top;\n",
       "    }\n",
       "\n",
       "    .dataframe thead th {\n",
       "        text-align: right;\n",
       "    }\n",
       "</style>\n",
       "<table border=\"1\" class=\"dataframe\">\n",
       "  <thead>\n",
       "    <tr style=\"text-align: right;\">\n",
       "      <th></th>\n",
       "      <th>Year_Birth</th>\n",
       "      <th>Age</th>\n",
       "      <th>Dt_Customer</th>\n",
       "      <th>Customer_Since_Years</th>\n",
       "      <th>Children</th>\n",
       "      <th>Total_Spent</th>\n",
       "    </tr>\n",
       "  </thead>\n",
       "  <tbody>\n",
       "    <tr>\n",
       "      <th>0</th>\n",
       "      <td>1957</td>\n",
       "      <td>68</td>\n",
       "      <td>2012-04-09</td>\n",
       "      <td>13</td>\n",
       "      <td>0</td>\n",
       "      <td>1617</td>\n",
       "    </tr>\n",
       "    <tr>\n",
       "      <th>1</th>\n",
       "      <td>1954</td>\n",
       "      <td>71</td>\n",
       "      <td>2014-08-03</td>\n",
       "      <td>11</td>\n",
       "      <td>2</td>\n",
       "      <td>27</td>\n",
       "    </tr>\n",
       "    <tr>\n",
       "      <th>2</th>\n",
       "      <td>1965</td>\n",
       "      <td>60</td>\n",
       "      <td>2013-08-21</td>\n",
       "      <td>12</td>\n",
       "      <td>0</td>\n",
       "      <td>776</td>\n",
       "    </tr>\n",
       "    <tr>\n",
       "      <th>3</th>\n",
       "      <td>1984</td>\n",
       "      <td>41</td>\n",
       "      <td>2014-10-02</td>\n",
       "      <td>11</td>\n",
       "      <td>1</td>\n",
       "      <td>53</td>\n",
       "    </tr>\n",
       "    <tr>\n",
       "      <th>4</th>\n",
       "      <td>1981</td>\n",
       "      <td>44</td>\n",
       "      <td>2014-01-19</td>\n",
       "      <td>11</td>\n",
       "      <td>1</td>\n",
       "      <td>422</td>\n",
       "    </tr>\n",
       "  </tbody>\n",
       "</table>\n",
       "</div>"
      ],
      "text/plain": [
       "   Year_Birth  Age Dt_Customer  Customer_Since_Years  Children  Total_Spent\n",
       "0        1957   68  2012-04-09                    13         0         1617\n",
       "1        1954   71  2014-08-03                    11         2           27\n",
       "2        1965   60  2013-08-21                    12         0          776\n",
       "3        1984   41  2014-10-02                    11         1           53\n",
       "4        1981   44  2014-01-19                    11         1          422"
      ]
     },
     "execution_count": 16,
     "metadata": {},
     "output_type": "execute_result"
    }
   ],
   "source": [
    "df[['Year_Birth', 'Age', 'Dt_Customer', 'Customer_Since_Years', 'Children', 'Total_Spent']].head()"
   ]
  },
  {
   "cell_type": "markdown",
   "id": "e3e19724",
   "metadata": {},
   "source": [
    "Setelah melengkapi seluruh data, maka proses bisa dilanjutkan ke pemeriksaan outlier dan jenis distribusi data."
   ]
  },
  {
   "cell_type": "code",
   "execution_count": 17,
   "id": "64636f3f",
   "metadata": {},
   "outputs": [
    {
     "name": "stdout",
     "output_type": "stream",
     "text": [
      "Marital_Status\n",
      "Married     864\n",
      "Together    580\n",
      "Single      480\n",
      "Divorced    232\n",
      "Widow        77\n",
      "Alone         3\n",
      "Absurd        2\n",
      "YOLO          2\n",
      "Name: count, dtype: int64\n"
     ]
    }
   ],
   "source": [
    "print(df['Marital_Status'].value_counts(dropna=False))"
   ]
  },
  {
   "cell_type": "markdown",
   "id": "0166a57a",
   "metadata": {},
   "source": [
    "Didapatkan adanya beberapa data yang tidak relevan didalam \"Marital Status\". Maka dari itu, data yang tidak relevan tersebut harus dihapus agar data bisa menjadi lebih reliable."
   ]
  },
  {
   "cell_type": "code",
   "execution_count": 18,
   "id": "8dc57b48",
   "metadata": {},
   "outputs": [],
   "source": [
    "Outlier_Marital_Status = [\"Absurd\", \"YOLO\", \"Alone\"]\n",
    "df = df[~df['Marital_Status'].isin(Outlier_Marital_Status)]"
   ]
  },
  {
   "cell_type": "code",
   "execution_count": 19,
   "id": "ac695c94",
   "metadata": {},
   "outputs": [
    {
     "name": "stdout",
     "output_type": "stream",
     "text": [
      "Marital_Status\n",
      "Married     864\n",
      "Together    580\n",
      "Single      480\n",
      "Divorced    232\n",
      "Widow        77\n",
      "Name: count, dtype: int64\n"
     ]
    }
   ],
   "source": [
    "print(df['Marital_Status'].value_counts(dropna=False))"
   ]
  },
  {
   "cell_type": "code",
   "execution_count": 20,
   "id": "3a97164c",
   "metadata": {},
   "outputs": [
    {
     "name": "stdout",
     "output_type": "stream",
     "text": [
      "Education\n",
      "Graduation    1125\n",
      "PhD            483\n",
      "Master         368\n",
      "2n Cycle       203\n",
      "Basic           54\n",
      "Name: count, dtype: int64\n"
     ]
    }
   ],
   "source": [
    "print(df['Education'].value_counts(dropna=False))"
   ]
  },
  {
   "cell_type": "markdown",
   "id": "a13bf043",
   "metadata": {},
   "source": [
    "Tidak ditemukan data yang tidak relevan di dalam \"Education\""
   ]
  },
  {
   "cell_type": "code",
   "execution_count": 21,
   "id": "97930ee7",
   "metadata": {},
   "outputs": [
    {
     "name": "stdout",
     "output_type": "stream",
     "text": [
      "GoodnessOfFitResult(fit_result=  params: FitParams(loc=52234.70801612181, scale=25062.791884495462)\n",
      " success: True\n",
      " message: 'The fit was performed successfully.', statistic=15.65927332502406, pvalue=0.0001, null_distribution=array([0.69185759, 0.30101556, 0.55887349, ..., 0.54492437, 0.60586126,\n",
      "       0.38346661]))\n"
     ]
    }
   ],
   "source": [
    "from scipy.stats import goodness_of_fit, rv_continuous\n",
    "import scipy\n",
    "\n",
    "result = goodness_of_fit(\n",
    "    dist = scipy.stats.norm,\n",
    "    data = df[\"Income\"],\n",
    ")\n",
    "print(result)"
   ]
  },
  {
   "cell_type": "markdown",
   "id": "44f5e4d1",
   "metadata": {},
   "source": [
    "Setelah melakukan goodness of fit test, hasil yang didapatkan menunjukkan bahwa data yang dites memiliki distribusi yang tidak normal."
   ]
  },
  {
   "cell_type": "code",
   "execution_count": 22,
   "id": "f7a6c98f",
   "metadata": {},
   "outputs": [
    {
     "data": {
      "image/png": "[encoded data removed]",
      "text/plain": [
       "<Figure size 640x480 with 1 Axes>"
      ]
     },
     "metadata": {},
     "output_type": "display_data"
    }
   ],
   "source": [
    "sns.histplot(\n",
    "    data = df[\"Income\"]\n",
    ")\n",
    "\n",
    "plt.show()"
   ]
  },
  {
   "cell_type": "code",
   "execution_count": 23,
   "id": "d83cfc99",
   "metadata": {},
   "outputs": [
    {
     "data": {
      "image/png": "[encoded data removed]",
      "text/plain": [
       "<Figure size 640x480 with 1 Axes>"
      ]
     },
     "metadata": {},
     "output_type": "display_data"
    }
   ],
   "source": [
    "sns.histplot(\n",
    "    data = df[\"Age\"]\n",
    ")\n",
    "\n",
    "plt.show()"
   ]
  },
  {
   "cell_type": "code",
   "execution_count": 24,
   "id": "0bf29181",
   "metadata": {},
   "outputs": [
    {
     "data": {
      "image/png": "[encoded data removed]",
      "text/plain": [
       "<Figure size 640x480 with 1 Axes>"
      ]
     },
     "metadata": {},
     "output_type": "display_data"
    }
   ],
   "source": [
    "sns.scatterplot(\n",
    "    data = df[\"Income\"]\n",
    ")\n",
    "\n",
    "plt.show()"
   ]
  },
  {
   "cell_type": "markdown",
   "id": "fefa5aef",
   "metadata": {},
   "source": [
    "Dari analisis chart yang sudah dibuat, dapat terlihat adanya beberapa Outlier yang ada didalam data. maka langkah yang harus dilakukan adalah memproses outlier tersebut dari data yang diolah."
   ]
  },
  {
   "cell_type": "code",
   "execution_count": 25,
   "id": "0c0c2b78",
   "metadata": {},
   "outputs": [],
   "source": [
    "valid_mask = (\n",
    "    (df['Income'] < 120000) &        \n",
    "    (df['Age'] >= 18) &              \n",
    "    (df['Age'] <= 100)               \n",
    ")\n",
    "\n",
    "df = df[valid_mask].copy()"
   ]
  },
  {
   "cell_type": "code",
   "execution_count": 26,
   "id": "79b84956",
   "metadata": {},
   "outputs": [
    {
     "data": {
      "application/vnd.microsoft.datawrangler.viewer.v0+json": {
       "columns": [
        {
         "name": "index",
         "rawType": "object",
         "type": "string"
        },
        {
         "name": "0",
         "rawType": "int64",
         "type": "integer"
        }
       ],
       "ref": "9aa57069-3749-4ca3-a76d-6633a2f2dffc",
       "rows": [
        [
         "ID",
         "2222"
        ],
        [
         "Year_Birth",
         "2222"
        ],
        [
         "Education",
         "2222"
        ],
        [
         "Marital_Status",
         "2222"
        ],
        [
         "Income",
         "2222"
        ],
        [
         "Kidhome",
         "2222"
        ],
        [
         "Teenhome",
         "2222"
        ],
        [
         "Dt_Customer",
         "2222"
        ],
        [
         "Recency",
         "2222"
        ],
        [
         "MntWines",
         "2222"
        ],
        [
         "MntFruits",
         "2222"
        ],
        [
         "MntMeatProducts",
         "2222"
        ],
        [
         "MntFishProducts",
         "2222"
        ],
        [
         "MntSweetProducts",
         "2222"
        ],
        [
         "MntGoldProds",
         "2222"
        ],
        [
         "NumDealsPurchases",
         "2222"
        ],
        [
         "NumWebPurchases",
         "2222"
        ],
        [
         "NumCatalogPurchases",
         "2222"
        ],
        [
         "NumStorePurchases",
         "2222"
        ],
        [
         "NumWebVisitsMonth",
         "2222"
        ],
        [
         "AcceptedCmp3",
         "2222"
        ],
        [
         "AcceptedCmp4",
         "2222"
        ],
        [
         "AcceptedCmp5",
         "2222"
        ],
        [
         "AcceptedCmp1",
         "2222"
        ],
        [
         "AcceptedCmp2",
         "2222"
        ],
        [
         "Complain",
         "2222"
        ],
        [
         "Response",
         "2222"
        ],
        [
         "Age",
         "2222"
        ],
        [
         "Customer_Since_Years",
         "2222"
        ],
        [
         "Children",
         "2222"
        ],
        [
         "Total_Spent",
         "2222"
        ]
       ],
       "shape": {
        "columns": 1,
        "rows": 31
       }
      },
      "text/plain": [
       "ID                      2222\n",
       "Year_Birth              2222\n",
       "Education               2222\n",
       "Marital_Status          2222\n",
       "Income                  2222\n",
       "Kidhome                 2222\n",
       "Teenhome                2222\n",
       "Dt_Customer             2222\n",
       "Recency                 2222\n",
       "MntWines                2222\n",
       "MntFruits               2222\n",
       "MntMeatProducts         2222\n",
       "MntFishProducts         2222\n",
       "MntSweetProducts        2222\n",
       "MntGoldProds            2222\n",
       "NumDealsPurchases       2222\n",
       "NumWebPurchases         2222\n",
       "NumCatalogPurchases     2222\n",
       "NumStorePurchases       2222\n",
       "NumWebVisitsMonth       2222\n",
       "AcceptedCmp3            2222\n",
       "AcceptedCmp4            2222\n",
       "AcceptedCmp5            2222\n",
       "AcceptedCmp1            2222\n",
       "AcceptedCmp2            2222\n",
       "Complain                2222\n",
       "Response                2222\n",
       "Age                     2222\n",
       "Customer_Since_Years    2222\n",
       "Children                2222\n",
       "Total_Spent             2222\n",
       "dtype: int64"
      ]
     },
     "execution_count": 26,
     "metadata": {},
     "output_type": "execute_result"
    }
   ],
   "source": [
    "df.count()"
   ]
  },
  {
   "cell_type": "markdown",
   "id": "2982e182",
   "metadata": {},
   "source": [
    "Setelah membersihkan outlier dari data, data akan dieksport ke excel untuk diolah lebih lanjut di tableau."
   ]
  },
  {
   "cell_type": "code",
   "execution_count": 27,
   "id": "f1bcff95",
   "metadata": {},
   "outputs": [],
   "source": [
    "df.to_excel(\"Cleaned_Customers.xlsx\", index=False)"
   ]
  },
  {
   "cell_type": "code",
   "execution_count": 28,
   "id": "8e77d307",
   "metadata": {},
   "outputs": [
    {
     "data": {
      "application/vnd.microsoft.datawrangler.viewer.v0+json": {
       "columns": [
        {
         "name": "index",
         "rawType": "int64",
         "type": "integer"
        },
        {
         "name": "ID",
         "rawType": "int64",
         "type": "integer"
        },
        {
         "name": "Year_Birth",
         "rawType": "int64",
         "type": "integer"
        },
        {
         "name": "Education",
         "rawType": "object",
         "type": "string"
        },
        {
         "name": "Marital_Status",
         "rawType": "object",
         "type": "string"
        },
        {
         "name": "Income",
         "rawType": "float64",
         "type": "float"
        },
        {
         "name": "Kidhome",
         "rawType": "int64",
         "type": "integer"
        },
        {
         "name": "Teenhome",
         "rawType": "int64",
         "type": "integer"
        },
        {
         "name": "Dt_Customer",
         "rawType": "datetime64[ns]",
         "type": "datetime"
        },
        {
         "name": "Recency",
         "rawType": "int64",
         "type": "integer"
        },
        {
         "name": "MntWines",
         "rawType": "int64",
         "type": "integer"
        },
        {
         "name": "MntFruits",
         "rawType": "int64",
         "type": "integer"
        },
        {
         "name": "MntMeatProducts",
         "rawType": "int64",
         "type": "integer"
        },
        {
         "name": "MntFishProducts",
         "rawType": "int64",
         "type": "integer"
        },
        {
         "name": "MntSweetProducts",
         "rawType": "int64",
         "type": "integer"
        },
        {
         "name": "MntGoldProds",
         "rawType": "int64",
         "type": "integer"
        },
        {
         "name": "NumDealsPurchases",
         "rawType": "int64",
         "type": "integer"
        },
        {
         "name": "NumWebPurchases",
         "rawType": "int64",
         "type": "integer"
        },
        {
         "name": "NumCatalogPurchases",
         "rawType": "int64",
         "type": "integer"
        },
        {
         "name": "NumStorePurchases",
         "rawType": "int64",
         "type": "integer"
        },
        {
         "name": "NumWebVisitsMonth",
         "rawType": "int64",
         "type": "integer"
        },
        {
         "name": "AcceptedCmp3",
         "rawType": "int64",
         "type": "integer"
        },
        {
         "name": "AcceptedCmp4",
         "rawType": "int64",
         "type": "integer"
        },
        {
         "name": "AcceptedCmp5",
         "rawType": "int64",
         "type": "integer"
        },
        {
         "name": "AcceptedCmp1",
         "rawType": "int64",
         "type": "integer"
        },
        {
         "name": "AcceptedCmp2",
         "rawType": "int64",
         "type": "integer"
        },
        {
         "name": "Complain",
         "rawType": "int64",
         "type": "integer"
        },
        {
         "name": "Response",
         "rawType": "int64",
         "type": "integer"
        },
        {
         "name": "Age",
         "rawType": "int64",
         "type": "integer"
        },
        {
         "name": "Customer_Since_Years",
         "rawType": "int32",
         "type": "integer"
        },
        {
         "name": "Children",
         "rawType": "int64",
         "type": "integer"
        },
        {
         "name": "Total_Spent",
         "rawType": "int64",
         "type": "integer"
        }
       ],
       "ref": "07f3355a-73cb-42b4-a0df-7327a51ff555",
       "rows": [
        [
         "0",
         "5524",
         "1957",
         "Graduation",
         "Single",
         "58138.0",
         "0",
         "0",
         "2012-04-09 00:00:00",
         "58",
         "635",
         "88",
         "546",
         "172",
         "88",
         "88",
         "3",
         "8",
         "10",
         "4",
         "7",
         "0",
         "0",
         "0",
         "0",
         "0",
         "0",
         "1",
         "68",
         "13",
         "0",
         "1617"
        ],
        [
         "1",
         "2174",
         "1954",
         "Graduation",
         "Single",
         "46344.0",
         "1",
         "1",
         "2014-08-03 00:00:00",
         "38",
         "11",
         "1",
         "6",
         "2",
         "1",
         "6",
         "2",
         "1",
         "1",
         "2",
         "5",
         "0",
         "0",
         "0",
         "0",
         "0",
         "0",
         "0",
         "71",
         "11",
         "2",
         "27"
        ],
        [
         "2",
         "4141",
         "1965",
         "Graduation",
         "Together",
         "71613.0",
         "0",
         "0",
         "2013-08-21 00:00:00",
         "26",
         "426",
         "49",
         "127",
         "111",
         "21",
         "42",
         "1",
         "8",
         "2",
         "10",
         "4",
         "0",
         "0",
         "0",
         "0",
         "0",
         "0",
         "0",
         "60",
         "12",
         "0",
         "776"
        ],
        [
         "3",
         "6182",
         "1984",
         "Graduation",
         "Together",
         "26646.0",
         "1",
         "0",
         "2014-10-02 00:00:00",
         "26",
         "11",
         "4",
         "20",
         "10",
         "3",
         "5",
         "2",
         "2",
         "0",
         "4",
         "6",
         "0",
         "0",
         "0",
         "0",
         "0",
         "0",
         "0",
         "41",
         "11",
         "1",
         "53"
        ],
        [
         "4",
         "5324",
         "1981",
         "PhD",
         "Married",
         "58293.0",
         "1",
         "0",
         "2014-01-19 00:00:00",
         "94",
         "173",
         "43",
         "118",
         "46",
         "27",
         "15",
         "5",
         "5",
         "3",
         "6",
         "5",
         "0",
         "0",
         "0",
         "0",
         "0",
         "0",
         "0",
         "44",
         "11",
         "1",
         "422"
        ]
       ],
       "shape": {
        "columns": 31,
        "rows": 5
       }
      },
      "text/html": [
       "<div>\n",
       "<style scoped>\n",
       "    .dataframe tbody tr th:only-of-type {\n",
       "        vertical-align: middle;\n",
       "    }\n",
       "\n",
       "    .dataframe tbody tr th {\n",
       "        vertical-align: top;\n",
       "    }\n",
       "\n",
       "    .dataframe thead th {\n",
       "        text-align: right;\n",
       "    }\n",
       "</style>\n",
       "<table border=\"1\" class=\"dataframe\">\n",
       "  <thead>\n",
       "    <tr style=\"text-align: right;\">\n",
       "      <th></th>\n",
       "      <th>ID</th>\n",
       "      <th>Year_Birth</th>\n",
       "      <th>Education</th>\n",
       "      <th>Marital_Status</th>\n",
       "      <th>Income</th>\n",
       "      <th>Kidhome</th>\n",
       "      <th>Teenhome</th>\n",
       "      <th>Dt_Customer</th>\n",
       "      <th>Recency</th>\n",
       "      <th>MntWines</th>\n",
       "      <th>...</th>\n",
       "      <th>AcceptedCmp4</th>\n",
       "      <th>AcceptedCmp5</th>\n",
       "      <th>AcceptedCmp1</th>\n",
       "      <th>AcceptedCmp2</th>\n",
       "      <th>Complain</th>\n",
       "      <th>Response</th>\n",
       "      <th>Age</th>\n",
       "      <th>Customer_Since_Years</th>\n",
       "      <th>Children</th>\n",
       "      <th>Total_Spent</th>\n",
       "    </tr>\n",
       "  </thead>\n",
       "  <tbody>\n",
       "    <tr>\n",
       "      <th>0</th>\n",
       "      <td>5524</td>\n",
       "      <td>1957</td>\n",
       "      <td>Graduation</td>\n",
       "      <td>Single</td>\n",
       "      <td>58138.0</td>\n",
       "      <td>0</td>\n",
       "      <td>0</td>\n",
       "      <td>2012-04-09</td>\n",
       "      <td>58</td>\n",
       "      <td>635</td>\n",
       "      <td>...</td>\n",
       "      <td>0</td>\n",
       "      <td>0</td>\n",
       "      <td>0</td>\n",
       "      <td>0</td>\n",
       "      <td>0</td>\n",
       "      <td>1</td>\n",
       "      <td>68</td>\n",
       "      <td>13</td>\n",
       "      <td>0</td>\n",
       "      <td>1617</td>\n",
       "    </tr>\n",
       "    <tr>\n",
       "      <th>1</th>\n",
       "      <td>2174</td>\n",
       "      <td>1954</td>\n",
       "      <td>Graduation</td>\n",
       "      <td>Single</td>\n",
       "      <td>46344.0</td>\n",
       "      <td>1</td>\n",
       "      <td>1</td>\n",
       "      <td>2014-08-03</td>\n",
       "      <td>38</td>\n",
       "      <td>11</td>\n",
       "      <td>...</td>\n",
       "      <td>0</td>\n",
       "      <td>0</td>\n",
       "      <td>0</td>\n",
       "      <td>0</td>\n",
       "      <td>0</td>\n",
       "      <td>0</td>\n",
       "      <td>71</td>\n",
       "      <td>11</td>\n",
       "      <td>2</td>\n",
       "      <td>27</td>\n",
       "    </tr>\n",
       "    <tr>\n",
       "      <th>2</th>\n",
       "      <td>4141</td>\n",
       "      <td>1965</td>\n",
       "      <td>Graduation</td>\n",
       "      <td>Together</td>\n",
       "      <td>71613.0</td>\n",
       "      <td>0</td>\n",
       "      <td>0</td>\n",
       "      <td>2013-08-21</td>\n",
       "      <td>26</td>\n",
       "      <td>426</td>\n",
       "      <td>...</td>\n",
       "      <td>0</td>\n",
       "      <td>0</td>\n",
       "      <td>0</td>\n",
       "      <td>0</td>\n",
       "      <td>0</td>\n",
       "      <td>0</td>\n",
       "      <td>60</td>\n",
       "      <td>12</td>\n",
       "      <td>0</td>\n",
       "      <td>776</td>\n",
       "    </tr>\n",
       "    <tr>\n",
       "      <th>3</th>\n",
       "      <td>6182</td>\n",
       "      <td>1984</td>\n",
       "      <td>Graduation</td>\n",
       "      <td>Together</td>\n",
       "      <td>26646.0</td>\n",
       "      <td>1</td>\n",
       "      <td>0</td>\n",
       "      <td>2014-10-02</td>\n",
       "      <td>26</td>\n",
       "      <td>11</td>\n",
       "      <td>...</td>\n",
       "      <td>0</td>\n",
       "      <td>0</td>\n",
       "      <td>0</td>\n",
       "      <td>0</td>\n",
       "      <td>0</td>\n",
       "      <td>0</td>\n",
       "      <td>41</td>\n",
       "      <td>11</td>\n",
       "      <td>1</td>\n",
       "      <td>53</td>\n",
       "    </tr>\n",
       "    <tr>\n",
       "      <th>4</th>\n",
       "      <td>5324</td>\n",
       "      <td>1981</td>\n",
       "      <td>PhD</td>\n",
       "      <td>Married</td>\n",
       "      <td>58293.0</td>\n",
       "      <td>1</td>\n",
       "      <td>0</td>\n",
       "      <td>2014-01-19</td>\n",
       "      <td>94</td>\n",
       "      <td>173</td>\n",
       "      <td>...</td>\n",
       "      <td>0</td>\n",
       "      <td>0</td>\n",
       "      <td>0</td>\n",
       "      <td>0</td>\n",
       "      <td>0</td>\n",
       "      <td>0</td>\n",
       "      <td>44</td>\n",
       "      <td>11</td>\n",
       "      <td>1</td>\n",
       "      <td>422</td>\n",
       "    </tr>\n",
       "  </tbody>\n",
       "</table>\n",
       "<p>5 rows × 31 columns</p>\n",
       "</div>"
      ],
      "text/plain": [
       "     ID  Year_Birth   Education Marital_Status   Income  Kidhome  Teenhome  \\\n",
       "0  5524        1957  Graduation         Single  58138.0        0         0   \n",
       "1  2174        1954  Graduation         Single  46344.0        1         1   \n",
       "2  4141        1965  Graduation       Together  71613.0        0         0   \n",
       "3  6182        1984  Graduation       Together  26646.0        1         0   \n",
       "4  5324        1981         PhD        Married  58293.0        1         0   \n",
       "\n",
       "  Dt_Customer  Recency  MntWines  ...  AcceptedCmp4  AcceptedCmp5  \\\n",
       "0  2012-04-09       58       635  ...             0             0   \n",
       "1  2014-08-03       38        11  ...             0             0   \n",
       "2  2013-08-21       26       426  ...             0             0   \n",
       "3  2014-10-02       26        11  ...             0             0   \n",
       "4  2014-01-19       94       173  ...             0             0   \n",
       "\n",
       "   AcceptedCmp1  AcceptedCmp2  Complain  Response  Age  Customer_Since_Years  \\\n",
       "0             0             0         0         1   68                    13   \n",
       "1             0             0         0         0   71                    11   \n",
       "2             0             0         0         0   60                    12   \n",
       "3             0             0         0         0   41                    11   \n",
       "4             0             0         0         0   44                    11   \n",
       "\n",
       "   Children  Total_Spent  \n",
       "0         0         1617  \n",
       "1         2           27  \n",
       "2         0          776  \n",
       "3         1           53  \n",
       "4         1          422  \n",
       "\n",
       "[5 rows x 31 columns]"
      ]
     },
     "execution_count": 28,
     "metadata": {},
     "output_type": "execute_result"
    }
   ],
   "source": [
    "df.head()"
   ]
  },
  {
   "cell_type": "code",
   "execution_count": 29,
   "id": "019fa006",
   "metadata": {},
   "outputs": [
    {
     "data": {
      "image/png": "[encoded data removed]",
      "text/plain": [
       "<Figure size 640x480 with 1 Axes>"
      ]
     },
     "metadata": {},
     "output_type": "display_data"
    }
   ],
   "source": [
    "sns.histplot(\n",
    "    data = df[\"Income\"]\n",
    ")\n",
    "\n",
    "plt.show()"
   ]
  },
  {
   "cell_type": "code",
   "execution_count": 30,
   "id": "93e33857",
   "metadata": {},
   "outputs": [
    {
     "data": {
      "image/png": "[encoded data removed]",
      "text/plain": [
       "<Figure size 640x480 with 1 Axes>"
      ]
     },
     "metadata": {},
     "output_type": "display_data"
    }
   ],
   "source": [
    "sns.histplot(\n",
    "    data = df[\"Age\"]\n",
    ")\n",
    "\n",
    "plt.show()"
   ]
  },
  {
   "cell_type": "markdown",
   "id": "5ac96a2a",
   "metadata": {},
   "source": [
    "Setelah data sudah bersih, maka proses selanjutnya yang dilakukan adalah melakukan analisis deskriptif."
   ]
  },
  {
   "cell_type": "code",
   "execution_count": 31,
   "id": "05d42b70",
   "metadata": {},
   "outputs": [
    {
     "data": {
      "application/vnd.microsoft.datawrangler.viewer.v0+json": {
       "columns": [
        {
         "name": "index",
         "rawType": "object",
         "type": "string"
        },
        {
         "name": "Income",
         "rawType": "float64",
         "type": "float"
        }
       ],
       "ref": "531d912f-9bb7-4eb3-ac23-a5dc29e5882e",
       "rows": [
        [
         "count",
         "2222.0"
        ],
        [
         "mean",
         "51614.27227722772"
        ],
        [
         "std",
         "20615.94281196566"
        ],
        [
         "min",
         "1730.0"
        ],
        [
         "25%",
         "35395.0"
        ],
        [
         "50%",
         "51381.5"
        ],
        [
         "75%",
         "68118.0"
        ],
        [
         "max",
         "113734.0"
        ]
       ],
       "shape": {
        "columns": 1,
        "rows": 8
       }
      },
      "text/plain": [
       "count      2222.000000\n",
       "mean      51614.272277\n",
       "std       20615.942812\n",
       "min        1730.000000\n",
       "25%       35395.000000\n",
       "50%       51381.500000\n",
       "75%       68118.000000\n",
       "max      113734.000000\n",
       "Name: Income, dtype: float64"
      ]
     },
     "execution_count": 31,
     "metadata": {},
     "output_type": "execute_result"
    }
   ],
   "source": [
    "df[\"Income\"].describe()"
   ]
  },
  {
   "cell_type": "code",
   "execution_count": 32,
   "id": "f1a003a3",
   "metadata": {},
   "outputs": [
    {
     "data": {
      "application/vnd.microsoft.datawrangler.viewer.v0+json": {
       "columns": [
        {
         "name": "index",
         "rawType": "object",
         "type": "string"
        },
        {
         "name": "Age",
         "rawType": "float64",
         "type": "float"
        }
       ],
       "ref": "01411562-d0ab-4db8-abe0-1ced8e026829",
       "rows": [
        [
         "count",
         "2222.0"
        ],
        [
         "mean",
         "56.12601260126013"
        ],
        [
         "std",
         "11.70169362574417"
        ],
        [
         "min",
         "29.0"
        ],
        [
         "25%",
         "48.0"
        ],
        [
         "50%",
         "55.0"
        ],
        [
         "75%",
         "66.0"
        ],
        [
         "max",
         "85.0"
        ]
       ],
       "shape": {
        "columns": 1,
        "rows": 8
       }
      },
      "text/plain": [
       "count    2222.000000\n",
       "mean       56.126013\n",
       "std        11.701694\n",
       "min        29.000000\n",
       "25%        48.000000\n",
       "50%        55.000000\n",
       "75%        66.000000\n",
       "max        85.000000\n",
       "Name: Age, dtype: float64"
      ]
     },
     "execution_count": 32,
     "metadata": {},
     "output_type": "execute_result"
    }
   ],
   "source": [
    "df[\"Age\"].describe()"
   ]
  },
  {
   "cell_type": "code",
   "execution_count": 33,
   "id": "79f9d8ce",
   "metadata": {},
   "outputs": [],
   "source": [
    "\n",
    "descriptive_stats = df.describe(include='all').transpose()\n",
    "\n",
    "numerical_cols = ['Income', 'Age']\n",
    "inferential_stats = {}\n",
    "\n",
    "for col in numerical_cols:\n",
    "    data = df[col].dropna()\n",
    "    mean = data.mean()\n",
    "    sem = stats.sem(data)\n",
    "    ci = stats.t.interval(0.95, len(data)-1, loc=mean, scale=sem)\n",
    "    inferential_stats[col] = {\n",
    "        'mean': mean,\n",
    "        'std_dev': data.std(),\n",
    "        '95% CI Lower': ci[0],\n",
    "        '95% CI Upper': ci[1]\n",
    "    }\n",
    "\n",
    "inferential_stats_df = pd.DataFrame(inferential_stats).transpose()"
   ]
  },
  {
   "cell_type": "code",
   "execution_count": 34,
   "id": "6913819a",
   "metadata": {},
   "outputs": [
    {
     "data": {
      "image/png": "[encoded data removed]",
      "text/plain": [
       "<Figure size 1200x600 with 2 Axes>"
      ]
     },
     "metadata": {},
     "output_type": "display_data"
    }
   ],
   "source": [
    "fig, axes = plt.subplots(1, 2, figsize=(12, 6))\n",
    "axes = axes.flatten()\n",
    "\n",
    "for i, col in enumerate(numerical_cols):\n",
    "    sns.histplot(df[col], kde=True, ax=axes[i], bins=30, color='skyblue')\n",
    "    axes[i].set_title(f'Distribution of {col}')\n",
    "    axes[i].set_xlabel(col)\n",
    "    axes[i].set_ylabel('Frequency')\n",
    "\n",
    "plt.tight_layout()\n",
    "plt.show()\n"
   ]
  },
  {
   "cell_type": "code",
   "execution_count": 35,
   "id": "218fd132",
   "metadata": {},
   "outputs": [
    {
     "name": "stdout",
     "output_type": "stream",
     "text": [
      "Mean: 51614.27227722772\n",
      "Median: 51381.5\n",
      "Standard Deviation: 20615.94281196566\n",
      "Standard Error: 437.35205703641776\n",
      "95% Confidence Interval: (50756.61060663037, 52471.93394782507)\n"
     ]
    }
   ],
   "source": [
    "income_data = df['Income']\n",
    "income_mean = income_data.mean()\n",
    "income_median = income_data.median()\n",
    "income_std = income_data.std()\n",
    "\n",
    "income_sem = stats.sem(income_data) \n",
    "income_ci = stats.t.interval(0.95, len(income_data)-1, loc=income_mean, scale=income_sem)\n",
    "\n",
    "\n",
    "print(f\"Mean: {income_mean}\")\n",
    "print(f\"Median: {income_median}\")\n",
    "print(f\"Standard Deviation: {income_std}\")\n",
    "print(f\"Standard Error: {income_sem}\")\n",
    "print(f\"95% Confidence Interval: {income_ci}\")"
   ]
  },
  {
   "cell_type": "code",
   "execution_count": 36,
   "id": "2c41ccaa",
   "metadata": {},
   "outputs": [
    {
     "name": "stdout",
     "output_type": "stream",
     "text": [
      "Mean: 56.12601260126013\n",
      "Median: 55.0\n",
      "Standard Deviation: 11.70169362574417\n",
      "Standard Error: 0.24824281987524618\n",
      "95% Confidence Interval: (55.63920032226753, 56.61282488025273)\n"
     ]
    }
   ],
   "source": [
    "age_data = df['Age']\n",
    "age_mean = age_data.mean()\n",
    "age_median = age_data.median()\n",
    "age_std = age_data.std()\n",
    "\n",
    "age_sem = stats.sem(age_data) \n",
    "age_ci = stats.t.interval(0.95, len(age_data)-1, loc=age_mean, scale=age_sem)\n",
    "\n",
    "\n",
    "print(f\"Mean: {age_mean}\")\n",
    "print(f\"Median: {age_median}\")\n",
    "print(f\"Standard Deviation: {age_std}\")\n",
    "print(f\"Standard Error: {age_sem}\")\n",
    "print(f\"95% Confidence Interval: {age_ci}\")"
   ]
  },
  {
   "cell_type": "code",
   "execution_count": 37,
   "id": "72cfa83b",
   "metadata": {},
   "outputs": [
    {
     "data": {
      "image/png": "[encoded data removed]",
      "text/plain": [
       "<Figure size 640x480 with 1 Axes>"
      ]
     },
     "metadata": {},
     "output_type": "display_data"
    }
   ],
   "source": [
    "sns.histplot(df['Income'], kde=True, bins=30, color='skyblue')\n",
    "plt.axvline(income_mean, color='red', linestyle='--', label=f\"Mean = {income_mean:,.0f}\")\n",
    "plt.axvline(income_median, color='purple', linestyle='--', label=f\"Median = {income_median:,.0f}\")\n",
    "plt.title('Distribution of Customer Income')\n",
    "plt.xlabel('Income')\n",
    "plt.ylabel('Frequency')\n",
    "plt.legend()\n",
    "plt.grid(True)\n",
    "plt.show()"
   ]
  },
  {
   "cell_type": "markdown",
   "id": "408e6afb",
   "metadata": {},
   "source": [
    "Graph dari data income menunjukkan bahwa mean dan median tidak berada di posisi yang sama, hal ini menunjukkan bahwa data \"Income\" itu skewed atau tidak berdistribusi normal."
   ]
  },
  {
   "cell_type": "code",
   "execution_count": 38,
   "id": "7f5f5b39",
   "metadata": {},
   "outputs": [
    {
     "data": {
      "image/png": "[encoded data removed]",
      "text/plain": [
       "<Figure size 640x480 with 1 Axes>"
      ]
     },
     "metadata": {},
     "output_type": "display_data"
    }
   ],
   "source": [
    "sns.histplot(df['Age'], kde=True, bins=30, color='skyblue')\n",
    "plt.axvline(age_mean, color='red', linestyle='--', label=f\"Mean = {age_mean:,.0f}\")\n",
    "plt.axvline(age_median, color='purple', linestyle='--', label=f\"Median = {age_median:,.0f}\")\n",
    "plt.title('Distribution of Customer Age')\n",
    "plt.xlabel('Age')\n",
    "plt.ylabel('Frequency')\n",
    "plt.legend()\n",
    "plt.grid(True)\n",
    "plt.show()"
   ]
  },
  {
   "cell_type": "markdown",
   "id": "a2ca3c70",
   "metadata": {},
   "source": [
    "Graph dari data \"Age\" menunjukkan bahwa mean dan median tidak berada di posisi yang sama, hal ini menunjukkan bahwa data \"Age\" itu skewed atau tidak berdistribusi normal."
   ]
  }
 ],
 "metadata": {
  "kernelspec": {
   "display_name": "base",
   "language": "python",
   "name": "python3"
  },
  "language_info": {
   "codemirror_mode": {
    "name": "ipython",
    "version": 3
   },
   "file_extension": ".py",
   "mimetype": "text/x-python",
   "name": "python",
   "nbconvert_exporter": "python",
   "pygments_lexer": "ipython3",
   "version": "3.12.7"
  }
 },
 "nbformat": 4,
 "nbformat_minor": 5
}
